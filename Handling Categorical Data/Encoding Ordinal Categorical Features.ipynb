{
 "cells": [
  {
   "cell_type": "markdown",
   "id": "566d76a6-c827-4d7f-a51b-27bf48f275d2",
   "metadata": {},
   "source": [
    "# Encoding Ordinal Categorical Features"
   ]
  },
  {
   "cell_type": "markdown",
   "id": "e26af94b-771a-4a9e-a83c-3da049eb350b",
   "metadata": {},
   "source": [
    "You have an ordinal categorical feature (e.g., high, medium, low)."
   ]
  },
  {
   "cell_type": "markdown",
   "id": "0c502571-ef0b-4151-a0a8-89af60710e54",
   "metadata": {},
   "source": [
    "Use pandas DataFrame’s replace method to transform string labels to numerical\n",
    "equivalents:"
   ]
  },
  {
   "cell_type": "code",
   "execution_count": 1,
   "id": "2e99f884-80e5-4ec3-9f65-1f97fe0a7dcd",
   "metadata": {},
   "outputs": [],
   "source": [
    "# Load library\n",
    "import pandas as pd\n",
    "# Create features\n",
    "dataframe = pd.DataFrame({\"Score\": [\"Low\", \"Low\", \"Medium\", \"Medium\", \"High\"]})"
   ]
  },
  {
   "cell_type": "code",
   "execution_count": 2,
   "id": "5bff8358-d682-4f14-bc95-3f58d7f8ba60",
   "metadata": {},
   "outputs": [
    {
     "data": {
      "text/html": [
       "<div>\n",
       "<style scoped>\n",
       "    .dataframe tbody tr th:only-of-type {\n",
       "        vertical-align: middle;\n",
       "    }\n",
       "\n",
       "    .dataframe tbody tr th {\n",
       "        vertical-align: top;\n",
       "    }\n",
       "\n",
       "    .dataframe thead th {\n",
       "        text-align: right;\n",
       "    }\n",
       "</style>\n",
       "<table border=\"1\" class=\"dataframe\">\n",
       "  <thead>\n",
       "    <tr style=\"text-align: right;\">\n",
       "      <th></th>\n",
       "      <th>Score</th>\n",
       "    </tr>\n",
       "  </thead>\n",
       "  <tbody>\n",
       "    <tr>\n",
       "      <th>0</th>\n",
       "      <td>Low</td>\n",
       "    </tr>\n",
       "    <tr>\n",
       "      <th>1</th>\n",
       "      <td>Low</td>\n",
       "    </tr>\n",
       "    <tr>\n",
       "      <th>2</th>\n",
       "      <td>Medium</td>\n",
       "    </tr>\n",
       "    <tr>\n",
       "      <th>3</th>\n",
       "      <td>Medium</td>\n",
       "    </tr>\n",
       "    <tr>\n",
       "      <th>4</th>\n",
       "      <td>High</td>\n",
       "    </tr>\n",
       "  </tbody>\n",
       "</table>\n",
       "</div>"
      ],
      "text/plain": [
       "    Score\n",
       "0     Low\n",
       "1     Low\n",
       "2  Medium\n",
       "3  Medium\n",
       "4    High"
      ]
     },
     "execution_count": 2,
     "metadata": {},
     "output_type": "execute_result"
    }
   ],
   "source": [
    "dataframe"
   ]
  },
  {
   "cell_type": "code",
   "execution_count": 3,
   "id": "5eae9f1a-cd0f-450c-b4c7-363e1e6ea597",
   "metadata": {},
   "outputs": [],
   "source": [
    "# Create mapper\n",
    "scale_mapper = {\"Low\":1,\n",
    " \"Medium\":2,\n",
    " \"High\":3}"
   ]
  },
  {
   "cell_type": "code",
   "execution_count": 4,
   "id": "04ddc681-2e54-4355-aef8-a8ae1dcbe688",
   "metadata": {},
   "outputs": [
    {
     "data": {
      "text/plain": [
       "0    1\n",
       "1    1\n",
       "2    2\n",
       "3    2\n",
       "4    3\n",
       "Name: Score, dtype: int64"
      ]
     },
     "execution_count": 4,
     "metadata": {},
     "output_type": "execute_result"
    }
   ],
   "source": [
    "# Replace feature values with scale\n",
    "dataframe[\"Score\"].replace(scale_mapper)"
   ]
  },
  {
   "cell_type": "markdown",
   "id": "38490520-60ef-40cc-ac2c-93d63a2b6787",
   "metadata": {},
   "source": [
    "When encoding the feature for use in machine learning, we need to transform the\n",
    "ordinal classes into numerical values that maintain the notion of ordering. The most\n",
    "common approach is to create a dictionary that maps the string label of the class to a\n",
    "number and then apply that map to the feature.\n",
    "\n",
    "\n",
    "It is important that our choice of numeric values is based on our prior information on\n",
    "the ordinal classes. In our solution, high is literally three times larger than low. This\n",
    "is fine in any instances, but can break down if the assumed intervals between the\n",
    "classes are not equal"
   ]
  },
  {
   "cell_type": "code",
   "execution_count": 6,
   "id": "ebb53512-e45d-4e98-96fb-947a5e81d15c",
   "metadata": {},
   "outputs": [],
   "source": [
    "dataframe = pd.DataFrame({\"Score\": [\"Low\",\n",
    " \"Low\",\n",
    "\"Medium\",\n",
    "\"Medium\",\n",
    "\"High\",\n",
    "\"Barely More Than Medium\"]})\n",
    "\n",
    "scale_mapper = {\"Low\":1,\n",
    " \"Medium\":2,\n",
    " \"Barely More Than Medium\": 3,\n",
    " \"High\":4}"
   ]
  },
  {
   "cell_type": "code",
   "execution_count": 7,
   "id": "5d1eb7db-5741-4a4f-b3a4-403df59204d5",
   "metadata": {},
   "outputs": [
    {
     "data": {
      "text/plain": [
       "0    1\n",
       "1    1\n",
       "2    2\n",
       "3    2\n",
       "4    4\n",
       "5    3\n",
       "Name: Score, dtype: int64"
      ]
     },
     "execution_count": 7,
     "metadata": {},
     "output_type": "execute_result"
    }
   ],
   "source": [
    "dataframe[\"Score\"].replace(scale_mapper)"
   ]
  },
  {
   "cell_type": "markdown",
   "id": "f5e78eb4-283c-4397-a282-0e33ab02c5c0",
   "metadata": {},
   "source": [
    "In this example, the distance between Low and Medium is the same as the distance\n",
    "between Medium and Barely More Than Medium, which is almost certainly not accu‐\n",
    "rate. The best approach is to be conscious about the numerical values mapped to \n",
    "classes:"
   ]
  },
  {
   "cell_type": "code",
   "execution_count": 9,
   "id": "3542b425-d0a7-46ee-81b6-c3f43ac9d1ef",
   "metadata": {},
   "outputs": [
    {
     "data": {
      "text/plain": [
       "0    1.0\n",
       "1    1.0\n",
       "2    2.0\n",
       "3    2.0\n",
       "4    3.0\n",
       "5    2.1\n",
       "Name: Score, dtype: float64"
      ]
     },
     "execution_count": 9,
     "metadata": {},
     "output_type": "execute_result"
    }
   ],
   "source": [
    "scale_mapper = {\"Low\":1,\n",
    " \"Medium\":2,\n",
    " \"Barely More Than Medium\": 2.1,\n",
    " \"High\":3}\n",
    "\n",
    "dataframe[\"Score\"].replace(scale_mapper)"
   ]
  },
  {
   "cell_type": "code",
   "execution_count": null,
   "id": "14b2bcbc-a5e7-4f33-8d91-229567463ba9",
   "metadata": {},
   "outputs": [],
   "source": []
  }
 ],
 "metadata": {
  "kernelspec": {
   "display_name": "Python 3",
   "language": "python",
   "name": "python3"
  },
  "language_info": {
   "codemirror_mode": {
    "name": "ipython",
    "version": 3
   },
   "file_extension": ".py",
   "mimetype": "text/x-python",
   "name": "python",
   "nbconvert_exporter": "python",
   "pygments_lexer": "ipython3",
   "version": "3.7.9"
  }
 },
 "nbformat": 4,
 "nbformat_minor": 5
}
