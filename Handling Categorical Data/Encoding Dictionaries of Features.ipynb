{
 "cells": [
  {
   "cell_type": "markdown",
   "id": "1b6c2b5f-4e51-41ef-91a0-aa5fa4cd508f",
   "metadata": {},
   "source": [
    "# Encoding Dictionaries of Features"
   ]
  },
  {
   "cell_type": "markdown",
   "id": "91cc74e4-f673-4d36-a9a8-a240121fe0d2",
   "metadata": {},
   "source": [
    "You have a dictionary and want to convert it into a feature matrix."
   ]
  },
  {
   "cell_type": "code",
   "execution_count": 1,
   "id": "04dba78d-4fce-4cd0-abfd-580ee77d6b7f",
   "metadata": {},
   "outputs": [],
   "source": [
    "# Import library\n",
    "from sklearn.feature_extraction import DictVectorizer"
   ]
  },
  {
   "cell_type": "code",
   "execution_count": 2,
   "id": "3bac6a4b-93bb-4247-bd91-0ecc7e52ffdc",
   "metadata": {},
   "outputs": [],
   "source": [
    "# Create dictionary\n",
    "data_dict = [{\"Red\": 2, \"Blue\": 4},\n",
    " {\"Red\": 4, \"Blue\": 3},\n",
    " {\"Red\": 1, \"Yellow\": 2},\n",
    " {\"Red\": 2, \"Yellow\": 2}]"
   ]
  },
  {
   "cell_type": "code",
   "execution_count": 3,
   "id": "d8281127-afab-4d02-a99a-21f544016ac2",
   "metadata": {},
   "outputs": [
    {
     "data": {
      "text/plain": [
       "[{'Red': 2, 'Blue': 4},\n",
       " {'Red': 4, 'Blue': 3},\n",
       " {'Red': 1, 'Yellow': 2},\n",
       " {'Red': 2, 'Yellow': 2}]"
      ]
     },
     "execution_count": 3,
     "metadata": {},
     "output_type": "execute_result"
    }
   ],
   "source": [
    "data_dict"
   ]
  },
  {
   "cell_type": "code",
   "execution_count": 4,
   "id": "63aaaa44-6bf7-4fd8-8a41-5fb6fc9ad6f7",
   "metadata": {},
   "outputs": [
    {
     "data": {
      "text/plain": [
       "array([[4., 2., 0.],\n",
       "       [3., 4., 0.],\n",
       "       [0., 1., 2.],\n",
       "       [0., 2., 2.]])"
      ]
     },
     "execution_count": 4,
     "metadata": {},
     "output_type": "execute_result"
    }
   ],
   "source": [
    "dictvectorizer = DictVectorizer(sparse=False)\n",
    "# Convert dictionary to feature matrix\n",
    "features = dictvectorizer.fit_transform(data_dict)\n",
    "# View feature matrix\n",
    "features"
   ]
  },
  {
   "cell_type": "markdown",
   "id": "0c565ae5-2626-4bc3-8ebb-abeb243815be",
   "metadata": {},
   "source": [
    "We can get the names of each generated feature using the get_feature_names\n",
    "method:"
   ]
  },
  {
   "cell_type": "code",
   "execution_count": 6,
   "id": "328c0ea8-c74c-40a9-ac1c-8cb4d34b2c60",
   "metadata": {},
   "outputs": [
    {
     "data": {
      "text/plain": [
       "array(['Blue', 'Red', 'Yellow'], dtype=object)"
      ]
     },
     "execution_count": 6,
     "metadata": {},
     "output_type": "execute_result"
    }
   ],
   "source": [
    "# Get feature names\n",
    "feature_names = dictvectorizer.get_feature_names_out()\n",
    "# View feature names\n",
    "feature_names"
   ]
  },
  {
   "cell_type": "code",
   "execution_count": null,
   "id": "0f38057b-cce4-42ac-a94f-d65e61b1fb6e",
   "metadata": {},
   "outputs": [],
   "source": []
  }
 ],
 "metadata": {
  "kernelspec": {
   "display_name": "Python 3",
   "language": "python",
   "name": "python3"
  },
  "language_info": {
   "codemirror_mode": {
    "name": "ipython",
    "version": 3
   },
   "file_extension": ".py",
   "mimetype": "text/x-python",
   "name": "python",
   "nbconvert_exporter": "python",
   "pygments_lexer": "ipython3",
   "version": "3.7.9"
  }
 },
 "nbformat": 4,
 "nbformat_minor": 5
}
