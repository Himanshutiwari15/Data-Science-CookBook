{
 "cells": [
  {
   "cell_type": "markdown",
   "id": "ca479513-3d89-4cbf-a07f-632e97eb219d",
   "metadata": {},
   "source": [
    "# Removing Punctuation"
   ]
  },
  {
   "cell_type": "markdown",
   "id": "ab192b33-fc05-4ef4-ab55-45c4fc629466",
   "metadata": {},
   "source": [
    "You have a feature of text data and want to remove punctuation."
   ]
  },
  {
   "cell_type": "markdown",
   "id": "312c2654-5908-4067-8345-43c83efbb1e3",
   "metadata": {},
   "source": [
    "Define a function that uses translate with a dictionary of punctuation characters:"
   ]
  },
  {
   "cell_type": "code",
   "execution_count": 1,
   "id": "e73d62d6-fb7f-4173-81c9-bdf4211c46ce",
   "metadata": {},
   "outputs": [],
   "source": [
    "# Load libraries\n",
    "import unicodedata\n",
    "import sys"
   ]
  },
  {
   "cell_type": "code",
   "execution_count": 2,
   "id": "749eb7d9-4665-4831-becf-4d288357313f",
   "metadata": {},
   "outputs": [],
   "source": [
    "# Create text\n",
    "text_data = ['Hi!!!! I. Love. This. Song....',\n",
    " '10000% Agree!!!! #LoveIT',\n",
    " 'Right?!?!']"
   ]
  },
  {
   "cell_type": "code",
   "execution_count": 3,
   "id": "d3cfdeda-f193-4dba-bb77-4bfe48f79766",
   "metadata": {},
   "outputs": [],
   "source": [
    "# Create a dictionary of punctuation characters\n",
    "punctuation = dict.fromkeys(i for i in range(sys.maxunicode)\n",
    " if unicodedata.category(chr(i)).startswith('P'))"
   ]
  },
  {
   "cell_type": "code",
   "execution_count": 6,
   "id": "c60ebd08-21d3-4e1a-a3e1-632f329e6266",
   "metadata": {},
   "outputs": [],
   "source": [
    "#punctuation"
   ]
  },
  {
   "cell_type": "code",
   "execution_count": 7,
   "id": "32848d95-0dda-4c4c-8ca0-f56fd790992f",
   "metadata": {},
   "outputs": [
    {
     "data": {
      "text/plain": [
       "['Hi I Love This Song', '10000 Agree LoveIT', 'Right']"
      ]
     },
     "execution_count": 7,
     "metadata": {},
     "output_type": "execute_result"
    }
   ],
   "source": [
    "# For each string, remove any punctuation characters\n",
    "[string.translate(punctuation) for string in text_data]"
   ]
  },
  {
   "cell_type": "markdown",
   "id": "15d85837-940c-4ba4-8f7f-9672f9bcba58",
   "metadata": {},
   "source": [
    "translate is a Python method popular due to its blazing speed. In our solution, first\n",
    "we created a dictionary, punctuation, with all punctuation characters according to\n",
    "Unicode as its keys and None as its values. Next we translated all characters in the\n",
    "string that are in punctuation into None, effectively removing them. There are more\n",
    "readable ways to remove punctuation, but this somewhat hacky solution has the\n",
    "advantage of being far faster than alternatives."
   ]
  },
  {
   "cell_type": "markdown",
   "id": "bafdc7e0-f65f-4676-8cf4-193f08beaac3",
   "metadata": {},
   "source": [
    "It is important to be conscious of the fact that punctuation contains information (e.g.,\n",
    "“Right?” versus “Right!”). Removing punctuation is often a necessary evil to create\n",
    "features; however, if the punctuation is important we should make sure to take that\n",
    "into account."
   ]
  },
  {
   "cell_type": "code",
   "execution_count": null,
   "id": "5cb648e9-7be6-424e-8c39-1e6887b26032",
   "metadata": {},
   "outputs": [],
   "source": []
  }
 ],
 "metadata": {
  "kernelspec": {
   "display_name": "Python 3",
   "language": "python",
   "name": "python3"
  },
  "language_info": {
   "codemirror_mode": {
    "name": "ipython",
    "version": 3
   },
   "file_extension": ".py",
   "mimetype": "text/x-python",
   "name": "python",
   "nbconvert_exporter": "python",
   "pygments_lexer": "ipython3",
   "version": "3.7.9"
  }
 },
 "nbformat": 4,
 "nbformat_minor": 5
}
