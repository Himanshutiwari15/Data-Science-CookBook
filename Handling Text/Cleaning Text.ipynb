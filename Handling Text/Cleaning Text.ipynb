{
 "cells": [
  {
   "cell_type": "markdown",
   "id": "a4d3c353-8558-469a-9162-41ba835747ba",
   "metadata": {},
   "source": [
    "# Cleaning Text"
   ]
  },
  {
   "cell_type": "markdown",
   "id": "1fe05a32-d3d7-4a83-9c99-6792fd15c9ff",
   "metadata": {},
   "source": [
    "You have some unstructured text data and want to complete some basic cleaning"
   ]
  },
  {
   "cell_type": "markdown",
   "id": "d1dacb9a-836e-49fc-bc83-05c154d1475a",
   "metadata": {},
   "source": [
    "Most basic text cleaning operations should only replace Python’s core string opera‐\n",
    "tions, in particular strip, replace, and split:"
   ]
  },
  {
   "cell_type": "code",
   "execution_count": 2,
   "id": "8d05237e-e4ba-4f4e-9ac2-44a4e4d3c8cf",
   "metadata": {},
   "outputs": [],
   "source": [
    "# Create text\n",
    "text_data = [\"    Interrobang. By Aishwarya Henriette      \",\n",
    " \"Parking And Going. By Karl Gautier\",\n",
    " \"    Today Is The night. By Jarek Prakash    \"]"
   ]
  },
  {
   "cell_type": "code",
   "execution_count": 3,
   "id": "9647b9ea-08e7-4e85-8403-042ebdf4886e",
   "metadata": {},
   "outputs": [],
   "source": [
    "# Strip whitespaces\n",
    "strip_whitespace = [string.strip() for string in text_data]"
   ]
  },
  {
   "cell_type": "code",
   "execution_count": 4,
   "id": "23240938-d39f-4030-ba39-cfda5b148d80",
   "metadata": {},
   "outputs": [
    {
     "data": {
      "text/plain": [
       "['Interrobang. By Aishwarya Henriette',\n",
       " 'Parking And Going. By Karl Gautier',\n",
       " 'Today Is The night. By Jarek Prakash']"
      ]
     },
     "execution_count": 4,
     "metadata": {},
     "output_type": "execute_result"
    }
   ],
   "source": [
    "strip_whitespace"
   ]
  },
  {
   "cell_type": "code",
   "execution_count": 5,
   "id": "6f01774a-ff85-4b7d-9de8-cf35fe870993",
   "metadata": {},
   "outputs": [],
   "source": [
    "# Remove periods\n",
    "remove_periods = [string.replace(\".\", \"\") for string in strip_whitespace]"
   ]
  },
  {
   "cell_type": "code",
   "execution_count": 6,
   "id": "fbaecd80-ec65-401d-9406-bc024c56df7e",
   "metadata": {},
   "outputs": [
    {
     "data": {
      "text/plain": [
       "['Interrobang By Aishwarya Henriette',\n",
       " 'Parking And Going By Karl Gautier',\n",
       " 'Today Is The night By Jarek Prakash']"
      ]
     },
     "execution_count": 6,
     "metadata": {},
     "output_type": "execute_result"
    }
   ],
   "source": [
    "remove_periods"
   ]
  },
  {
   "cell_type": "markdown",
   "id": "668edbfa-ded3-4e9c-a4da-3a7c74b917f4",
   "metadata": {},
   "source": [
    "We also create and apply a custom transformation function:"
   ]
  },
  {
   "cell_type": "code",
   "execution_count": 7,
   "id": "88d0b88c-1715-4d2b-907c-6cfa6ca3c5d8",
   "metadata": {},
   "outputs": [],
   "source": [
    "# Create function\n",
    "def capitalizer(string: str) -> str:\n",
    " return string.upper()\n"
   ]
  },
  {
   "cell_type": "code",
   "execution_count": 8,
   "id": "961f9a7c-199e-4770-91a1-4e82e8bc32e9",
   "metadata": {},
   "outputs": [
    {
     "data": {
      "text/plain": [
       "['INTERROBANG BY AISHWARYA HENRIETTE',\n",
       " 'PARKING AND GOING BY KARL GAUTIER',\n",
       " 'TODAY IS THE NIGHT BY JAREK PRAKASH']"
      ]
     },
     "execution_count": 8,
     "metadata": {},
     "output_type": "execute_result"
    }
   ],
   "source": [
    "# Apply function\n",
    "[capitalizer(string) for string in remove_periods]"
   ]
  },
  {
   "cell_type": "markdown",
   "id": "f621b3f6-8824-4d5c-b37f-b3153dcb35eb",
   "metadata": {},
   "source": [
    "Finally, we can use regular expressions to make powerful string operations:"
   ]
  },
  {
   "cell_type": "code",
   "execution_count": 9,
   "id": "0d2bd327-9147-41fc-8300-d2799408bb7e",
   "metadata": {},
   "outputs": [
    {
     "data": {
      "text/plain": [
       "['XXXXXXXXXXX XX XXXXXXXXX XXXXXXXXX',\n",
       " 'XXXXXXX XXX XXXXX XX XXXX XXXXXXX',\n",
       " 'XXXXX XX XXX XXXXX XX XXXXX XXXXXXX']"
      ]
     },
     "execution_count": 9,
     "metadata": {},
     "output_type": "execute_result"
    }
   ],
   "source": [
    "# Import library\n",
    "import re\n",
    "\n",
    "# Create function\n",
    "def replace_letters_with_X(string: str) -> str:\n",
    " return re.sub(r\"[a-zA-Z]\", \"X\", string)\n",
    "\n",
    "# Apply function\n",
    "[replace_letters_with_X(string) for string in remove_periods]"
   ]
  },
  {
   "cell_type": "code",
   "execution_count": null,
   "id": "28a66365-6595-4164-a339-e4b50fa4a804",
   "metadata": {},
   "outputs": [],
   "source": []
  }
 ],
 "metadata": {
  "kernelspec": {
   "display_name": "Python 3",
   "language": "python",
   "name": "python3"
  },
  "language_info": {
   "codemirror_mode": {
    "name": "ipython",
    "version": 3
   },
   "file_extension": ".py",
   "mimetype": "text/x-python",
   "name": "python",
   "nbconvert_exporter": "python",
   "pygments_lexer": "ipython3",
   "version": "3.7.9"
  }
 },
 "nbformat": 4,
 "nbformat_minor": 5
}
