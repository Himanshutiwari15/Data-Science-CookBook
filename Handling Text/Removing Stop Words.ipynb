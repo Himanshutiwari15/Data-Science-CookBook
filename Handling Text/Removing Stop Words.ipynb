{
 "cells": [
  {
   "cell_type": "markdown",
   "id": "229d2e2e-9715-4e2c-8853-114d9083ea77",
   "metadata": {},
   "source": [
    "# Removing Stop Words"
   ]
  },
  {
   "cell_type": "markdown",
   "id": "394fb8a0-8e86-40b5-92bf-6adb43126dcb",
   "metadata": {},
   "source": [
    "Given tokenized text data, you want to remove extremely common words (e.g., a, is,\n",
    "of, on) that contain little informational value."
   ]
  },
  {
   "cell_type": "code",
   "execution_count": 1,
   "id": "468c0db9-917b-45c1-9edf-4d37b607d8bc",
   "metadata": {},
   "outputs": [],
   "source": []
  },
  {
   "cell_type": "code",
   "execution_count": 3,
   "id": "3b3b2f18-7bb5-47a9-a993-5e2a34089ac7",
   "metadata": {},
   "outputs": [
    {
     "name": "stderr",
     "output_type": "stream",
     "text": [
      "[nltk_data] Downloading package stopwords to\n",
      "[nltk_data]     C:\\Users\\91962\\AppData\\Roaming\\nltk_data...\n",
      "[nltk_data]   Unzipping corpora\\stopwords.zip.\n"
     ]
    },
    {
     "data": {
      "text/plain": [
       "True"
      ]
     },
     "execution_count": 3,
     "metadata": {},
     "output_type": "execute_result"
    }
   ],
   "source": [
    "import nltk\n",
    "nltk.download('stopwords')"
   ]
  },
  {
   "cell_type": "code",
   "execution_count": 4,
   "id": "55132561-9f56-4b01-b080-9c68ad355208",
   "metadata": {},
   "outputs": [],
   "source": [
    "# Load library\n",
    "from nltk.corpus import stopwords"
   ]
  },
  {
   "cell_type": "code",
   "execution_count": 5,
   "id": "1a376a68-da14-43ca-9ef7-8f13269d34a2",
   "metadata": {},
   "outputs": [],
   "source": [
    "# Create word tokens\n",
    "tokenized_words = ['i',\n",
    " 'am',\n",
    " 'going',\n",
    " 'to',\n",
    " 'go',\n",
    " 'to',\n",
    " 'the',\n",
    " 'store',\n",
    " 'and',\n",
    " 'park']\n"
   ]
  },
  {
   "cell_type": "code",
   "execution_count": 6,
   "id": "b71d74ae-a55a-4baf-873e-b4de6507cace",
   "metadata": {},
   "outputs": [
    {
     "data": {
      "text/plain": [
       "['going', 'go', 'store', 'park']"
      ]
     },
     "execution_count": 6,
     "metadata": {},
     "output_type": "execute_result"
    }
   ],
   "source": [
    "# Load stop words\n",
    "stop_words = stopwords.words('english')\n",
    "# Remove stop words\n",
    "[word for word in tokenized_words if word not in stop_words]"
   ]
  },
  {
   "cell_type": "markdown",
   "id": "a0b38dde-e867-423f-a1ed-64d66fe69685",
   "metadata": {},
   "source": [
    "Note that NLTK’s stopwords assumes the tokenized words are all lowercased."
   ]
  },
  {
   "cell_type": "code",
   "execution_count": null,
   "id": "f71fa0f2-5235-4f80-9f43-82ace2af3898",
   "metadata": {},
   "outputs": [],
   "source": []
  }
 ],
 "metadata": {
  "kernelspec": {
   "display_name": "Python 3",
   "language": "python",
   "name": "python3"
  },
  "language_info": {
   "codemirror_mode": {
    "name": "ipython",
    "version": 3
   },
   "file_extension": ".py",
   "mimetype": "text/x-python",
   "name": "python",
   "nbconvert_exporter": "python",
   "pygments_lexer": "ipython3",
   "version": "3.7.9"
  }
 },
 "nbformat": 4,
 "nbformat_minor": 5
}
