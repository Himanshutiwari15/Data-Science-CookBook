{
 "cells": [
  {
   "cell_type": "markdown",
   "id": "9efd8d71-3d13-4210-b195-4c94c30be236",
   "metadata": {},
   "source": [
    " # Parsing and Cleaning HTML"
   ]
  },
  {
   "cell_type": "markdown",
   "id": "2bef1c3d-7a77-4857-aeec-282b3297af4f",
   "metadata": {},
   "source": [
    "You have text data with HTML elements and want to extract just the text."
   ]
  },
  {
   "cell_type": "markdown",
   "id": "c12579a0-ac66-4971-a407-677d075ea4ec",
   "metadata": {},
   "source": [
    "Use Beautiful Soup’s extensive set of options to parse and extract from HTML:"
   ]
  },
  {
   "cell_type": "code",
   "execution_count": 1,
   "id": "18f77165-b0f3-4489-8e3a-192c42a92089",
   "metadata": {},
   "outputs": [
    {
     "name": "stdout",
     "output_type": "stream",
     "text": [
      "Requirement already satisfied: bs4 in c:\\users\\91962\\appdata\\local\\programs\\python\\python37\\lib\\site-packages (0.0.1)Note: you may need to restart the kernel to use updated packages.\n",
      "Requirement already satisfied: beautifulsoup4 in c:\\users\\91962\\appdata\\local\\programs\\python\\python37\\lib\\site-packages (from bs4) (4.10.0)\n",
      "Requirement already satisfied: soupsieve>1.2 in c:\\users\\91962\\appdata\\local\\programs\\python\\python37\\lib\\site-packages (from beautifulsoup4->bs4) (2.3.1)\n",
      "\n"
     ]
    }
   ],
   "source": [
    "pip install bs4"
   ]
  },
  {
   "cell_type": "code",
   "execution_count": 6,
   "id": "eeac1624-44cc-41b5-ad68-7d0bd992ff6b",
   "metadata": {},
   "outputs": [],
   "source": [
    "# Load library\n",
    "from bs4 import BeautifulSoup\n",
    "# Create some HTML code\n",
    "html = \"\"\"\n",
    " <div class='full_name'><span style='font-weight:bold'>Masego</span> Azra</div>\"\n",
    " \"\"\""
   ]
  },
  {
   "cell_type": "code",
   "execution_count": 7,
   "id": "6b20da57-5a18-48a8-95e2-da431ace790f",
   "metadata": {},
   "outputs": [
    {
     "name": "stdout",
     "output_type": "stream",
     "text": [
      "Requirement already satisfied: lxml in c:\\users\\91962\\appdata\\local\\programs\\python\\python37\\lib\\site-packages (4.7.1)\n",
      "Note: you may need to restart the kernel to use updated packages.\n"
     ]
    }
   ],
   "source": [
    "pip install lxml"
   ]
  },
  {
   "cell_type": "code",
   "execution_count": 8,
   "id": "70139f76-d84a-40c4-b428-2d39cd36bc8f",
   "metadata": {},
   "outputs": [],
   "source": [
    "# Parse html\n",
    "soup = BeautifulSoup(html, \"lxml\")"
   ]
  },
  {
   "cell_type": "code",
   "execution_count": 9,
   "id": "42aff2ab-84eb-4b1e-a7ff-e71f04995ce0",
   "metadata": {},
   "outputs": [
    {
     "data": {
      "text/plain": [
       "'Masego Azra'"
      ]
     },
     "execution_count": 9,
     "metadata": {},
     "output_type": "execute_result"
    }
   ],
   "source": [
    "# Find the div with the class \"full_name\", show text\n",
    "soup.find(\"div\", { \"class\" : \"full_name\" }).text"
   ]
  },
  {
   "cell_type": "markdown",
   "id": "ebb73404-fbc0-4018-958e-a15ad5be272f",
   "metadata": {},
   "source": [
    "Despite the strange name, Beautiful Soup is a powerful Python library designed for\n",
    "scraping HTML. Typically Beautiful Soup is used scrape live websites, but we can just\n",
    "as easily use it to extract text data embedded in HTML."
   ]
  },
  {
   "cell_type": "code",
   "execution_count": null,
   "id": "754adaaf-2d98-4d62-a676-9673e5a59637",
   "metadata": {},
   "outputs": [],
   "source": []
  }
 ],
 "metadata": {
  "kernelspec": {
   "display_name": "Python 3",
   "language": "python",
   "name": "python3"
  },
  "language_info": {
   "codemirror_mode": {
    "name": "ipython",
    "version": 3
   },
   "file_extension": ".py",
   "mimetype": "text/x-python",
   "name": "python",
   "nbconvert_exporter": "python",
   "pygments_lexer": "ipython3",
   "version": "3.7.9"
  }
 },
 "nbformat": 4,
 "nbformat_minor": 5
}
