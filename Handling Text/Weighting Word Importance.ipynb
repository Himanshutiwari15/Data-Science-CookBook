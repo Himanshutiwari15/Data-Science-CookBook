{
 "cells": [
  {
   "cell_type": "markdown",
   "id": "1e0a7d36-d704-4acf-b7c6-b8fe3cff5a43",
   "metadata": {},
   "source": [
    "# Weighting Word Importance"
   ]
  },
  {
   "cell_type": "markdown",
   "id": "1dee36da-583f-4323-ba28-c69ae0425eb7",
   "metadata": {},
   "source": [
    "You want a bag of words, but with words weighted by their importance to an observa‐\n",
    "tion"
   ]
  },
  {
   "cell_type": "markdown",
   "id": "02f65a2f-d5ce-414d-85c6-407d7b7be538",
   "metadata": {},
   "source": [
    "Compare the frequency of the word in a document (a tweet, movie review, speech\n",
    "transcript, etc.) with the frequency of the word in all other documents using term\n",
    "frequency-inverse document frequency (tf-idf). scikit-learn makes this easy with\n",
    "TfidfVectorizer"
   ]
  },
  {
   "cell_type": "code",
   "execution_count": 1,
   "id": "8a3e34ab-3121-44d0-95c2-1d91ebbfcb05",
   "metadata": {},
   "outputs": [
    {
     "data": {
      "text/plain": [
       "<3x8 sparse matrix of type '<class 'numpy.float64'>'\n",
       "\twith 8 stored elements in Compressed Sparse Row format>"
      ]
     },
     "execution_count": 1,
     "metadata": {},
     "output_type": "execute_result"
    }
   ],
   "source": [
    "# Load libraries\n",
    "import numpy as np\n",
    "from sklearn.feature_extraction.text import TfidfVectorizer\n",
    "# Create text\n",
    "text_data = np.array(['I love Brazil. Brazil!',\n",
    " 'Sweden is best',\n",
    "'Germany beats both'])\n",
    "# Create the tf-idf feature matrix\n",
    "tfidf = TfidfVectorizer()\n",
    "feature_matrix = tfidf.fit_transform(text_data)\n",
    "# Show tf-idf feature matrix\n",
    "feature_matrix"
   ]
  },
  {
   "cell_type": "code",
   "execution_count": 2,
   "id": "9be778d3-d398-499f-bede-ab4e6526ac29",
   "metadata": {},
   "outputs": [
    {
     "data": {
      "text/plain": [
       "array([[0.        , 0.        , 0.        , 0.89442719, 0.        ,\n",
       "        0.        , 0.4472136 , 0.        ],\n",
       "       [0.        , 0.57735027, 0.        , 0.        , 0.        ,\n",
       "        0.57735027, 0.        , 0.57735027],\n",
       "       [0.57735027, 0.        , 0.57735027, 0.        , 0.57735027,\n",
       "        0.        , 0.        , 0.        ]])"
      ]
     },
     "execution_count": 2,
     "metadata": {},
     "output_type": "execute_result"
    }
   ],
   "source": [
    "# Show tf-idf feature matrix as dense matrix\n",
    "feature_matrix.toarray()"
   ]
  },
  {
   "cell_type": "code",
   "execution_count": 3,
   "id": "e542d296-aa41-4e3e-9d07-96566fbe731c",
   "metadata": {},
   "outputs": [
    {
     "data": {
      "text/plain": [
       "{'love': 6,\n",
       " 'brazil': 3,\n",
       " 'sweden': 7,\n",
       " 'is': 5,\n",
       " 'best': 1,\n",
       " 'germany': 4,\n",
       " 'beats': 0,\n",
       " 'both': 2}"
      ]
     },
     "execution_count": 3,
     "metadata": {},
     "output_type": "execute_result"
    }
   ],
   "source": [
    "# Show feature names\n",
    "tfidf.vocabulary_"
   ]
  },
  {
   "cell_type": "markdown",
   "id": "dfe30b94-6435-4ee1-809f-322366b8fb5a",
   "metadata": {},
   "source": [
    "The more a word appears in a document, the more likely it is important to that docu‐\n",
    "ment. For example, if the word economy appears frequently, it is evidence that the\n",
    "document might be about economics. We call this term frequency (tf)."
   ]
  },
  {
   "cell_type": "markdown",
   "id": "3c5e4c4e-547e-468f-937b-d79d6e130327",
   "metadata": {},
   "source": [
    "In contrast, if a word appears in many documents, it is likely less important to any\n",
    "individual document. For example, if every document in some text data contains the\n",
    "word aer then it is probably an unimportant word. We call this document frequency\n",
    "(df)"
   ]
  },
  {
   "cell_type": "markdown",
   "id": "a61cd359-5588-4fee-9af2-13347572126d",
   "metadata": {},
   "source": [
    "By combining these two statistics, we can assign a score to every word representing\n",
    "how important that word is in a document. Specifically, we multiply tf to the inverse\n",
    "of document frequency (idf):\n",
    "> tf‐idf( t, d) = t f( t, d) × id f (t)"
   ]
  },
  {
   "cell_type": "markdown",
   "id": "74125c7e-c048-4b35-8d20-b25ff373fa2b",
   "metadata": {},
   "source": [
    "where t is a word and d is a document. There are a number of variations in how tf and\n",
    "idf are calculated. In scikit-learn, tf is simply the number of times a word appears in\n",
    "the document and idf is calculated as:"
   ]
  },
  {
   "attachments": {
    "0f48a176-ade4-44a9-9ef9-7d2a6c3742d4.png": {
     "image/png": "[encoded data removed]"
    }
   },
   "cell_type": "markdown",
   "id": "3a9d5c79-94b8-48f4-b2be-f0779eaae6e4",
   "metadata": {},
   "source": [
    "\n",
    "\n",
    "\n",
    "\n",
    "![Screenshot 2022-02-01 162258.png](attachment:0f48a176-ade4-44a9-9ef9-7d2a6c3742d4.png)\n",
    "\n",
    "\n",
    "\n",
    "\n",
    "\n",
    "\n"
   ]
  },
  {
   "cell_type": "markdown",
   "id": "3f99a841-31d3-42d8-892d-6a8b28d4c123",
   "metadata": {},
   "source": [
    "where nd is the number of documents and df(d,t) is term, t’s document frequency (i.e.,\n",
    "number of documents where the term appears).\n",
    "\n",
    "\n",
    "By default, scikit-learn then normalizes the tf-idf vectors using the Euclidean norm\n",
    "(L2 norm). The higher the resulting value, the more important the word is to a docu‐\n",
    "ment."
   ]
  },
  {
   "cell_type": "code",
   "execution_count": null,
   "id": "0ce758a0-96fd-46ed-bfca-68e25ee0b98f",
   "metadata": {},
   "outputs": [],
   "source": []
  }
 ],
 "metadata": {
  "kernelspec": {
   "display_name": "Python 3",
   "language": "python",
   "name": "python3"
  },
  "language_info": {
   "codemirror_mode": {
    "name": "ipython",
    "version": 3
   },
   "file_extension": ".py",
   "mimetype": "text/x-python",
   "name": "python",
   "nbconvert_exporter": "python",
   "pygments_lexer": "ipython3",
   "version": "3.7.9"
  }
 },
 "nbformat": 4,
 "nbformat_minor": 5
}
