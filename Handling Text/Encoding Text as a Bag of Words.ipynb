{
 "cells": [
  {
   "cell_type": "markdown",
   "id": "4cfb2cdd-8fce-4035-8ef2-f22d83d679e1",
   "metadata": {},
   "source": [
    "# Encoding Text as a Bag of Words"
   ]
  },
  {
   "cell_type": "markdown",
   "id": "ccffa96c-68bb-4960-a77f-05085ffc92e2",
   "metadata": {},
   "source": [
    "You have text data and want to create a set of features indicating the number of times\n",
    "an observation’s text contains a particular word."
   ]
  },
  {
   "cell_type": "code",
   "execution_count": 1,
   "id": "3fb41aa3-7caa-4b59-9af0-2c6fc8480f18",
   "metadata": {},
   "outputs": [],
   "source": [
    "# Load library\n",
    "import numpy as np\n",
    "from sklearn.feature_extraction.text import CountVectorizer\n",
    "# Create text\n",
    "text_data = np.array(['I love Brazil. Brazil!',\n",
    " 'Sweden is best',\n",
    "'Germany beats both'])"
   ]
  },
  {
   "cell_type": "code",
   "execution_count": 2,
   "id": "4948ec2c-9f08-4e6d-bcc5-704c0eb32616",
   "metadata": {},
   "outputs": [
    {
     "data": {
      "text/plain": [
       "<3x8 sparse matrix of type '<class 'numpy.int64'>'\n",
       "\twith 8 stored elements in Compressed Sparse Row format>"
      ]
     },
     "execution_count": 2,
     "metadata": {},
     "output_type": "execute_result"
    }
   ],
   "source": [
    "# Create the bag of words feature matrix\n",
    "count = CountVectorizer()\n",
    "bag_of_words = count.fit_transform(text_data)\n",
    "# Show feature matrix\n",
    "bag_of_words"
   ]
  },
  {
   "cell_type": "markdown",
   "id": "c90d094c-a20b-401a-ad6b-70fd2e5c2522",
   "metadata": {},
   "source": [
    "This output is a sparse array, which is often necessary when we have a large amount\n",
    "of text. However, in our toy example we can use toarray to view a matrix of word\n",
    "counts for each observation:"
   ]
  },
  {
   "cell_type": "code",
   "execution_count": 3,
   "id": "e8267c2b-0638-49c8-bb30-0ced6b17a20d",
   "metadata": {},
   "outputs": [
    {
     "data": {
      "text/plain": [
       "array([[0, 0, 0, 2, 0, 0, 1, 0],\n",
       "       [0, 1, 0, 0, 0, 1, 0, 1],\n",
       "       [1, 0, 1, 0, 1, 0, 0, 0]], dtype=int64)"
      ]
     },
     "execution_count": 3,
     "metadata": {},
     "output_type": "execute_result"
    }
   ],
   "source": [
    "bag_of_words.toarray()"
   ]
  },
  {
   "cell_type": "markdown",
   "id": "af0f8f8d-beec-4f57-adef-86925804bdf1",
   "metadata": {},
   "source": [
    "We can use the vocabulary_ method to view the word associated with each feature:\n",
    "    "
   ]
  },
  {
   "cell_type": "code",
   "execution_count": 4,
   "id": "4289d848-18c7-4885-aa17-20a6277f984b",
   "metadata": {},
   "outputs": [
    {
     "data": {
      "text/plain": [
       "array(['beats', 'best', 'both', 'brazil', 'germany', 'is', 'love',\n",
       "       'sweden'], dtype=object)"
      ]
     },
     "execution_count": 4,
     "metadata": {},
     "output_type": "execute_result"
    }
   ],
   "source": [
    "# Show feature names\n",
    "count.get_feature_names_out()"
   ]
  },
  {
   "cell_type": "code",
   "execution_count": null,
   "id": "093ea2ea-0a7e-4604-bea5-86fc7965dd29",
   "metadata": {},
   "outputs": [],
   "source": []
  }
 ],
 "metadata": {
  "kernelspec": {
   "display_name": "Python 3",
   "language": "python",
   "name": "python3"
  },
  "language_info": {
   "codemirror_mode": {
    "name": "ipython",
    "version": 3
   },
   "file_extension": ".py",
   "mimetype": "text/x-python",
   "name": "python",
   "nbconvert_exporter": "python",
   "pygments_lexer": "ipython3",
   "version": "3.7.9"
  }
 },
 "nbformat": 4,
 "nbformat_minor": 5
}
