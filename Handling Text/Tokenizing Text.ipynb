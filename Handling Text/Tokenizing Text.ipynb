{
 "cells": [
  {
   "cell_type": "markdown",
   "id": "e2569e5f-32ac-4b6c-9b36-7acdc21e2ea4",
   "metadata": {},
   "source": [
    "# Tokenizing Text"
   ]
  },
  {
   "cell_type": "markdown",
   "id": "14c81573-8c3b-45a1-9492-c2bef4f9a4dd",
   "metadata": {},
   "source": [
    "You have text and want to break it up into individual words."
   ]
  },
  {
   "cell_type": "markdown",
   "id": "dd4407cd-798a-4df0-a758-e8b95f265ca6",
   "metadata": {},
   "source": [
    "Natural Language Toolkit for Python (NLTK) has a powerful set of text manipulation\n",
    "operations, including word tokenizing:"
   ]
  },
  {
   "cell_type": "code",
   "execution_count": 1,
   "id": "1c906bd0-11d1-4762-bb32-34a10a1059bc",
   "metadata": {},
   "outputs": [
    {
     "name": "stdout",
     "output_type": "stream",
     "text": [
      "Requirement already satisfied: nltk in c:\\users\\91962\\appdata\\local\\programs\\python\\python37\\lib\\site-packages (3.6.7)\n",
      "Requirement already satisfied: regex>=2021.8.3 in c:\\users\\91962\\appdata\\local\\programs\\python\\python37\\lib\\site-packages (from nltk) (2022.1.18)\n",
      "Requirement already satisfied: joblib in c:\\users\\91962\\appdata\\local\\programs\\python\\python37\\lib\\site-packages (from nltk) (1.1.0)\n",
      "Requirement already satisfied: tqdm in c:\\users\\91962\\appdata\\local\\programs\\python\\python37\\lib\\site-packages (from nltk) (4.62.3)\n",
      "Requirement already satisfied: click in c:\\users\\91962\\appdata\\local\\programs\\python\\python37\\lib\\site-packages (from nltk) (8.0.3)\n",
      "Requirement already satisfied: importlib-metadata in c:\\users\\91962\\appdata\\local\\programs\\python\\python37\\lib\\site-packages (from click->nltk) (4.8.1)\n",
      "Requirement already satisfied: colorama in c:\\users\\91962\\appdata\\roaming\\python\\python37\\site-packages (from click->nltk) (0.4.3)\n",
      "Requirement already satisfied: zipp>=0.5 in c:\\users\\91962\\appdata\\local\\programs\\python\\python37\\lib\\site-packages (from importlib-metadata->click->nltk) (3.6.0)\n",
      "Requirement already satisfied: typing-extensions>=3.6.4 in c:\\users\\91962\\appdata\\local\\programs\\python\\python37\\lib\\site-packages (from importlib-metadata->click->nltk) (3.10.0.2)\n",
      "Note: you may need to restart the kernel to use updated packages.\n"
     ]
    }
   ],
   "source": [
    "pip install nltk"
   ]
  },
  {
   "cell_type": "code",
   "execution_count": 2,
   "id": "c9e829c9-c800-4cb1-8cc3-941e31eb59bf",
   "metadata": {},
   "outputs": [
    {
     "data": {
      "text/plain": [
       "['The', 'science', 'of', 'today', 'is', 'the', 'technology', 'of', 'tomorrow']"
      ]
     },
     "execution_count": 2,
     "metadata": {},
     "output_type": "execute_result"
    }
   ],
   "source": [
    "# Load library\n",
    "import nltk\n",
    "# nltk.download('punkt')\n",
    "from nltk.tokenize import word_tokenize\n",
    "# Create text\n",
    "string = \"The science of today is the technology of tomorrow\"\n",
    "# Tokenize words\n",
    "word_tokenize(string)"
   ]
  },
  {
   "cell_type": "markdown",
   "id": "bf7ccbe7-07ba-42fd-a570-978ba7efe36e",
   "metadata": {},
   "source": [
    "We can also tokenize into sentences:"
   ]
  },
  {
   "cell_type": "code",
   "execution_count": 3,
   "id": "7c18ada8-ed2f-4b28-8a42-1626c1ac8b15",
   "metadata": {},
   "outputs": [],
   "source": [
    "# Load library\n",
    "from nltk.tokenize import sent_tokenize\n",
    "# Create text\n",
    "string = \"The science of today is the technology of tomorrow. Tomorrow is today.\""
   ]
  },
  {
   "cell_type": "code",
   "execution_count": 4,
   "id": "076cc44f-8a1b-477c-8ff4-25d57ebd93fe",
   "metadata": {},
   "outputs": [
    {
     "data": {
      "text/plain": [
       "['The science of today is the technology of tomorrow.', 'Tomorrow is today.']"
      ]
     },
     "execution_count": 4,
     "metadata": {},
     "output_type": "execute_result"
    }
   ],
   "source": [
    "# Tokenize sentences\n",
    "sent_tokenize(string)"
   ]
  },
  {
   "cell_type": "code",
   "execution_count": null,
   "id": "b31aba50-f2c6-499e-9015-35e6143c3be1",
   "metadata": {},
   "outputs": [],
   "source": []
  }
 ],
 "metadata": {
  "kernelspec": {
   "display_name": "Python 3",
   "language": "python",
   "name": "python3"
  },
  "language_info": {
   "codemirror_mode": {
    "name": "ipython",
    "version": 3
   },
   "file_extension": ".py",
   "mimetype": "text/x-python",
   "name": "python",
   "nbconvert_exporter": "python",
   "pygments_lexer": "ipython3",
   "version": "3.7.9"
  }
 },
 "nbformat": 4,
 "nbformat_minor": 5
}
