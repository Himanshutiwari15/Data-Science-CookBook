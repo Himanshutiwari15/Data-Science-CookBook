{
 "cells": [
  {
   "cell_type": "markdown",
   "id": "e2009168-e374-4d88-971c-9bfc5b420a66",
   "metadata": {},
   "source": [
    "# Stemming Words"
   ]
  },
  {
   "cell_type": "markdown",
   "id": "0e2f9978-709b-487a-aa68-7fce07cb08db",
   "metadata": {},
   "source": [
    "You have tokenized words and want to convert them into their root forms."
   ]
  },
  {
   "cell_type": "code",
   "execution_count": 1,
   "id": "35b9a73d-bde9-48fc-a009-7aaa3561d5a1",
   "metadata": {},
   "outputs": [],
   "source": [
    "# Load library\n",
    "from nltk.stem.porter import PorterStemmer\n",
    "# Create word tokens\n",
    "tokenized_words = ['i', 'am', 'humbled', 'by', 'this', 'traditional', 'meeting']"
   ]
  },
  {
   "cell_type": "code",
   "execution_count": 2,
   "id": "c9c333ac-da81-4e3f-91be-bc786d08f255",
   "metadata": {},
   "outputs": [
    {
     "data": {
      "text/plain": [
       "['i', 'am', 'humbl', 'by', 'thi', 'tradit', 'meet']"
      ]
     },
     "execution_count": 2,
     "metadata": {},
     "output_type": "execute_result"
    }
   ],
   "source": [
    "# Create stemmer\n",
    "porter = PorterStemmer()\n",
    "# Apply stemmer\n",
    "[porter.stem(word) for word in tokenized_words]"
   ]
  },
  {
   "cell_type": "markdown",
   "id": "11d7a5eb-c3b0-446b-8ac0-14609edee17d",
   "metadata": {},
   "source": [
    "Stemming reduces a word to its stem by identifying and removing affixes (e.g., ger‐\n",
    "unds) while keeping the root meaning of the word. For example, both “tradition” and\n",
    "“traditional” have “tradit” as their stem, indicating that while they are different words\n",
    "they represent the same general concept. By stemming our text data, we transform it\n",
    "to something less readable, but closer to its base meaning and thus more suitable for\n",
    "comparison across observations. NLTK’s PorterStemmer implements the widely used\n",
    "Porter stemming algorithm to remove or replace common suffixes to produce the\n",
    "word stem."
   ]
  },
  {
   "cell_type": "code",
   "execution_count": null,
   "id": "ee6e5553-5666-473e-9a45-5e72cab6189e",
   "metadata": {},
   "outputs": [],
   "source": []
  }
 ],
 "metadata": {
  "kernelspec": {
   "display_name": "Python 3",
   "language": "python",
   "name": "python3"
  },
  "language_info": {
   "codemirror_mode": {
    "name": "ipython",
    "version": 3
   },
   "file_extension": ".py",
   "mimetype": "text/x-python",
   "name": "python",
   "nbconvert_exporter": "python",
   "pygments_lexer": "ipython3",
   "version": "3.7.9"
  }
 },
 "nbformat": 4,
 "nbformat_minor": 5
}
