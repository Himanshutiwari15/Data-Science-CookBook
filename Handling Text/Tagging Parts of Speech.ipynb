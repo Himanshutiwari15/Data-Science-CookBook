{
 "cells": [
  {
   "cell_type": "markdown",
   "id": "b55adfb8-40b7-45dc-9880-d411c4e43f34",
   "metadata": {},
   "source": [
    "# Tagging Parts of Speech"
   ]
  },
  {
   "cell_type": "markdown",
   "id": "18acca3b-ad5c-47ce-b21b-bfd562e60bc3",
   "metadata": {},
   "source": [
    "You have text data and want to tag each word or character with its part of speech."
   ]
  },
  {
   "cell_type": "code",
   "execution_count": 2,
   "id": "8b6c3488-5238-4367-8841-858ab775128f",
   "metadata": {},
   "outputs": [
    {
     "name": "stderr",
     "output_type": "stream",
     "text": [
      "[nltk_data] Downloading package averaged_perceptron_tagger to\n",
      "[nltk_data]     C:\\Users\\91962\\AppData\\Roaming\\nltk_data...\n",
      "[nltk_data]   Unzipping taggers\\averaged_perceptron_tagger.zip.\n"
     ]
    },
    {
     "data": {
      "text/plain": [
       "True"
      ]
     },
     "execution_count": 2,
     "metadata": {},
     "output_type": "execute_result"
    }
   ],
   "source": [
    "import nltk\n",
    "nltk.download('averaged_perceptron_tagger')"
   ]
  },
  {
   "cell_type": "code",
   "execution_count": 3,
   "id": "fe0fd00c-5c00-4bb1-acec-5eea5a1f1f79",
   "metadata": {},
   "outputs": [
    {
     "data": {
      "text/plain": [
       "[('Chris', 'NNP'), ('loved', 'VBD'), ('outdoor', 'RP'), ('running', 'VBG')]"
      ]
     },
     "execution_count": 3,
     "metadata": {},
     "output_type": "execute_result"
    }
   ],
   "source": [
    "# Load libraries\n",
    "from nltk import pos_tag\n",
    "from nltk import word_tokenize\n",
    "# Create text\n",
    "text_data = \"Chris loved outdoor running\"\n",
    "# Use pre-trained part of speech tagger\n",
    "text_tagged = pos_tag(word_tokenize(text_data))\n",
    "# Show parts of speech\n",
    "text_tagged"
   ]
  },
  {
   "cell_type": "markdown",
   "id": "a1bf8179-ab81-4b32-bf2a-c890d7d0ed31",
   "metadata": {},
   "source": [
    "| Tag |  Part of speech |\n",
    "------|-----------------|\n",
    "| NNP |  Proper noun, singular |\n",
    "| NN |  Noun, singular or mass |\n",
    "| RB |  Adverb |\n",
    "| VBD |  Verb, past tense |\n",
    "| VBG |  Verb, gerund or present participle |\n",
    "| JJ |  Adjective |\n",
    "| PRP |  Personal pronoun |"
   ]
  },
  {
   "cell_type": "markdown",
   "id": "db4ffa8c-d660-4191-956f-9735afed49ad",
   "metadata": {},
   "source": [
    "Once the text has been tagged, we can use the tags to find certain parts of speech. For\n",
    "example, here are all nouns:"
   ]
  },
  {
   "cell_type": "code",
   "execution_count": 4,
   "id": "157bdf6c-53a8-4ed5-9ed2-aaa9af12dde8",
   "metadata": {},
   "outputs": [
    {
     "data": {
      "text/plain": [
       "['Chris']"
      ]
     },
     "execution_count": 4,
     "metadata": {},
     "output_type": "execute_result"
    }
   ],
   "source": [
    "# Filter words\n",
    "[word for word, tag in text_tagged if tag in ['NN','NNS','NNP','NNPS'] ]"
   ]
  },
  {
   "cell_type": "code",
   "execution_count": null,
   "id": "b58c7378-c6b2-4bd4-a50b-6b95f8e9ac07",
   "metadata": {},
   "outputs": [],
   "source": []
  }
 ],
 "metadata": {
  "kernelspec": {
   "display_name": "Python 3",
   "language": "python",
   "name": "python3"
  },
  "language_info": {
   "codemirror_mode": {
    "name": "ipython",
    "version": 3
   },
   "file_extension": ".py",
   "mimetype": "text/x-python",
   "name": "python",
   "nbconvert_exporter": "python",
   "pygments_lexer": "ipython3",
   "version": "3.7.9"
  }
 },
 "nbformat": 4,
 "nbformat_minor": 5
}
