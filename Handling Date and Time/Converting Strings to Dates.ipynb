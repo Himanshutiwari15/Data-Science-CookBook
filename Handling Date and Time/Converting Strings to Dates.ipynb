{
 "cells": [
  {
   "cell_type": "markdown",
   "id": "52fdc092-66c8-4fcd-b873-8ba925ce2a24",
   "metadata": {},
   "source": [
    "# Converting Strings to Dates"
   ]
  },
  {
   "cell_type": "markdown",
   "id": "57cc9f2e-28d2-44b5-b110-870bfd8a38a6",
   "metadata": {},
   "source": [
    "Given a vector of strings representing dates and times, you want to transform them\n",
    "into time series data."
   ]
  },
  {
   "cell_type": "code",
   "execution_count": 1,
   "id": "1ec998f5-330c-4b32-883f-ced5ce7913e4",
   "metadata": {},
   "outputs": [],
   "source": [
    "# Load libraries\n",
    "import numpy as np\n",
    "import pandas as pd\n",
    "\n",
    "\n",
    "# Create strings\n",
    "date_strings = np.array(['03-04-2005 11:35 PM',\n",
    " '23-05-2010 12:01 AM',\n",
    "'04-09-2009 09:09 PM'])"
   ]
  },
  {
   "cell_type": "code",
   "execution_count": 2,
   "id": "e14f960e-1c60-41ec-af14-a6413e739912",
   "metadata": {},
   "outputs": [
    {
     "data": {
      "text/plain": [
       "[Timestamp('2005-04-03 23:35:00'),\n",
       " Timestamp('2010-05-23 00:01:00'),\n",
       " Timestamp('2009-09-04 21:09:00')]"
      ]
     },
     "execution_count": 2,
     "metadata": {},
     "output_type": "execute_result"
    }
   ],
   "source": [
    "# Convert to datetimes\n",
    "[pd.to_datetime(date, format='%d-%m-%Y %I:%M %p') for date in date_strings]"
   ]
  },
  {
   "cell_type": "code",
   "execution_count": 3,
   "id": "5138c50b-a16c-4df1-bcf7-16366fa60fe6",
   "metadata": {},
   "outputs": [
    {
     "data": {
      "text/plain": [
       "[Timestamp('2005-04-03 23:35:00'),\n",
       " Timestamp('2010-05-23 00:01:00'),\n",
       " Timestamp('2009-09-04 21:09:00')]"
      ]
     },
     "execution_count": 3,
     "metadata": {},
     "output_type": "execute_result"
    }
   ],
   "source": [
    "# Convert to datetimes\n",
    "[pd.to_datetime(date, format=\"%d-%m-%Y %I:%M %p\", errors=\"coerce\")\n",
    "for date in date_strings]"
   ]
  },
  {
   "cell_type": "markdown",
   "id": "c2223e16-02e2-4a0f-81a5-83dd1c412ace",
   "metadata": {},
   "source": [
    "If errors=\"coerce\", then any problem that occurs will not raise an error (the default\n",
    "behavior) but instead will set the value causing the error to NaT (i.e., a missing value)."
   ]
  },
  {
   "cell_type": "markdown",
   "id": "1ec249e7-8675-4338-a50a-b602cd8cef91",
   "metadata": {},
   "source": [
    "| Code | Description | Example |\n",
    "|------|-------------|---------|\n",
    "| %Y | Full year | 2001 |\n",
    "| %m | Month w/ zero padding | 04 |\n",
    "| %d | Day of the month w/ zero padding | 09 |\n",
    "| %I | Hour (12hr clock) w/ zero padding | 02 |\n",
    "| %p | AM or PM | AM |\n",
    "| %M | Minute w/ zero padding | 05 |\n",
    "| %S | Second w/ zero padding | 09 |"
   ]
  },
  {
   "cell_type": "code",
   "execution_count": null,
   "id": "8977c7ab-2875-40d3-a55b-9f4cd3f9c1c3",
   "metadata": {},
   "outputs": [],
   "source": []
  }
 ],
 "metadata": {
  "kernelspec": {
   "display_name": "Python 3",
   "language": "python",
   "name": "python3"
  },
  "language_info": {
   "codemirror_mode": {
    "name": "ipython",
    "version": 3
   },
   "file_extension": ".py",
   "mimetype": "text/x-python",
   "name": "python",
   "nbconvert_exporter": "python",
   "pygments_lexer": "ipython3",
   "version": "3.7.9"
  }
 },
 "nbformat": 4,
 "nbformat_minor": 5
}
