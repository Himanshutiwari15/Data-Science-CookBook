{
 "cells": [
  {
   "cell_type": "markdown",
   "id": "2070dc4f-6aa3-41f2-aba0-d44c3652332a",
   "metadata": {},
   "source": [
    "# Calculating the Difference Between Dates"
   ]
  },
  {
   "cell_type": "markdown",
   "id": "54581c94-a72b-4e60-ab1e-b3c9d8224504",
   "metadata": {},
   "source": [
    "You have two datetime features and want to calculate the time between them for each observation."
   ]
  },
  {
   "cell_type": "code",
   "execution_count": 1,
   "id": "54d459d5-3d00-4764-b0d0-570c5f037b68",
   "metadata": {},
   "outputs": [
    {
     "data": {
      "text/plain": [
       "0   0 days\n",
       "1   2 days\n",
       "dtype: timedelta64[ns]"
      ]
     },
     "execution_count": 1,
     "metadata": {},
     "output_type": "execute_result"
    }
   ],
   "source": [
    "# Load library\n",
    "import pandas as pd\n",
    "# Create data frame\n",
    "dataframe = pd.DataFrame()\n",
    "# Create two datetime features\n",
    "dataframe['Arrived'] = [pd.Timestamp('01-01-2017'), pd.Timestamp('01-04-2017')]\n",
    "dataframe['Left'] = [pd.Timestamp('01-01-2017'), pd.Timestamp('01-06-2017')]\n",
    "# Calculate duration between features\n",
    "dataframe['Left'] - dataframe['Arrived']"
   ]
  },
  {
   "cell_type": "code",
   "execution_count": 2,
   "id": "a1249b90-8f1a-4927-91fe-0b499843d293",
   "metadata": {},
   "outputs": [
    {
     "data": {
      "text/plain": [
       "0    0\n",
       "1    2\n",
       "dtype: int64"
      ]
     },
     "execution_count": 2,
     "metadata": {},
     "output_type": "execute_result"
    }
   ],
   "source": [
    "# Calculate duration between features\n",
    "pd.Series(delta.days for delta in (dataframe['Left'] - dataframe['Arrived']))"
   ]
  },
  {
   "cell_type": "markdown",
   "id": "4b3cbdf6-f5f6-4316-bf0f-e14c714425ef",
   "metadata": {},
   "source": [
    "There are times when the feature we want is the change (delta) between two points in\n",
    "time. For example, we might have the dates a customer checks in and checks out of a\n",
    "hotel, but the feature we want is the duration of his stay. pandas makes this calcula‐\n",
    "tion easy using the TimeDelta data type."
   ]
  },
  {
   "cell_type": "code",
   "execution_count": null,
   "id": "993ded0b-ed36-4ae0-af47-956fe58e0f90",
   "metadata": {},
   "outputs": [],
   "source": []
  }
 ],
 "metadata": {
  "kernelspec": {
   "display_name": "Python 3",
   "language": "python",
   "name": "python3"
  },
  "language_info": {
   "codemirror_mode": {
    "name": "ipython",
    "version": 3
   },
   "file_extension": ".py",
   "mimetype": "text/x-python",
   "name": "python",
   "nbconvert_exporter": "python",
   "pygments_lexer": "ipython3",
   "version": "3.7.9"
  }
 },
 "nbformat": 4,
 "nbformat_minor": 5
}
