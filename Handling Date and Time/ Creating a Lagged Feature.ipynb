{
 "cells": [
  {
   "cell_type": "markdown",
   "id": "6e3e0716-6077-4d24-a284-d4f7c95fa5a9",
   "metadata": {},
   "source": [
    " # Creating a Lagged Feature"
   ]
  },
  {
   "cell_type": "code",
   "execution_count": 1,
   "id": "ea2b6dd9-94c0-43b0-a125-d419d8ac2500",
   "metadata": {},
   "outputs": [
    {
     "data": {
      "text/html": [
       "<div>\n",
       "<style scoped>\n",
       "    .dataframe tbody tr th:only-of-type {\n",
       "        vertical-align: middle;\n",
       "    }\n",
       "\n",
       "    .dataframe tbody tr th {\n",
       "        vertical-align: top;\n",
       "    }\n",
       "\n",
       "    .dataframe thead th {\n",
       "        text-align: right;\n",
       "    }\n",
       "</style>\n",
       "<table border=\"1\" class=\"dataframe\">\n",
       "  <thead>\n",
       "    <tr style=\"text-align: right;\">\n",
       "      <th></th>\n",
       "      <th>dates</th>\n",
       "      <th>stock_price</th>\n",
       "      <th>previous_days_stock_price</th>\n",
       "    </tr>\n",
       "  </thead>\n",
       "  <tbody>\n",
       "    <tr>\n",
       "      <th>0</th>\n",
       "      <td>2001-01-01</td>\n",
       "      <td>1.1</td>\n",
       "      <td>NaN</td>\n",
       "    </tr>\n",
       "    <tr>\n",
       "      <th>1</th>\n",
       "      <td>2001-01-02</td>\n",
       "      <td>2.2</td>\n",
       "      <td>1.1</td>\n",
       "    </tr>\n",
       "    <tr>\n",
       "      <th>2</th>\n",
       "      <td>2001-01-03</td>\n",
       "      <td>3.3</td>\n",
       "      <td>2.2</td>\n",
       "    </tr>\n",
       "    <tr>\n",
       "      <th>3</th>\n",
       "      <td>2001-01-04</td>\n",
       "      <td>4.4</td>\n",
       "      <td>3.3</td>\n",
       "    </tr>\n",
       "    <tr>\n",
       "      <th>4</th>\n",
       "      <td>2001-01-05</td>\n",
       "      <td>5.5</td>\n",
       "      <td>4.4</td>\n",
       "    </tr>\n",
       "  </tbody>\n",
       "</table>\n",
       "</div>"
      ],
      "text/plain": [
       "       dates  stock_price  previous_days_stock_price\n",
       "0 2001-01-01          1.1                        NaN\n",
       "1 2001-01-02          2.2                        1.1\n",
       "2 2001-01-03          3.3                        2.2\n",
       "3 2001-01-04          4.4                        3.3\n",
       "4 2001-01-05          5.5                        4.4"
      ]
     },
     "execution_count": 1,
     "metadata": {},
     "output_type": "execute_result"
    }
   ],
   "source": [
    "# Load library\n",
    "import pandas as pd\n",
    "# Create data frame\n",
    "dataframe = pd.DataFrame()\n",
    "# Create data\n",
    "dataframe[\"dates\"] = pd.date_range(\"1/1/2001\", periods=5, freq=\"D\")\n",
    "dataframe[\"stock_price\"] = [1.1,2.2,3.3,4.4,5.5]\n",
    "# Lagged values by one row\n",
    "dataframe[\"previous_days_stock_price\"] = dataframe[\"stock_price\"].shift(1)\n",
    "# Show data frame\n",
    "dataframe"
   ]
  },
  {
   "cell_type": "markdown",
   "id": "8984d391-df02-44f7-a2da-b34aafe01739",
   "metadata": {},
   "source": [
    "Very often data is based on regularly spaced time periods (e.g., every day, every hour,\n",
    "every three hours) and we are interested in using values in the past to make predic‐\n",
    "tions (this is often called lagging a feature). For example, we might want to predict a\n",
    "stock’s price using the price it was the day before. With pandas we can use shift to\n",
    "lag values by one row, creating a new feature containing past values.\n",
    "In our solution, the first row for previous_days_stock_price is a missing value\n",
    "because there is no previous stock_price value."
   ]
  },
  {
   "cell_type": "code",
   "execution_count": null,
   "id": "668770cf-07c5-4412-a294-6c28d6570ac7",
   "metadata": {},
   "outputs": [],
   "source": []
  }
 ],
 "metadata": {
  "kernelspec": {
   "display_name": "Python 3",
   "language": "python",
   "name": "python3"
  },
  "language_info": {
   "codemirror_mode": {
    "name": "ipython",
    "version": 3
   },
   "file_extension": ".py",
   "mimetype": "text/x-python",
   "name": "python",
   "nbconvert_exporter": "python",
   "pygments_lexer": "ipython3",
   "version": "3.7.9"
  }
 },
 "nbformat": 4,
 "nbformat_minor": 5
}
