{
 "cells": [
  {
   "cell_type": "markdown",
   "id": "9a974157-6e84-4d84-87e4-7f49e4058993",
   "metadata": {},
   "source": [
    "# Selecting Dates and Times"
   ]
  },
  {
   "cell_type": "code",
   "execution_count": 1,
   "id": "4b8a0baa-8e5c-4067-a4ce-76031da9796c",
   "metadata": {},
   "outputs": [
    {
     "data": {
      "text/html": [
       "<div>\n",
       "<style scoped>\n",
       "    .dataframe tbody tr th:only-of-type {\n",
       "        vertical-align: middle;\n",
       "    }\n",
       "\n",
       "    .dataframe tbody tr th {\n",
       "        vertical-align: top;\n",
       "    }\n",
       "\n",
       "    .dataframe thead th {\n",
       "        text-align: right;\n",
       "    }\n",
       "</style>\n",
       "<table border=\"1\" class=\"dataframe\">\n",
       "  <thead>\n",
       "    <tr style=\"text-align: right;\">\n",
       "      <th></th>\n",
       "      <th>date</th>\n",
       "    </tr>\n",
       "  </thead>\n",
       "  <tbody>\n",
       "    <tr>\n",
       "      <th>8762</th>\n",
       "      <td>2002-01-01 02:00:00</td>\n",
       "    </tr>\n",
       "    <tr>\n",
       "      <th>8763</th>\n",
       "      <td>2002-01-01 03:00:00</td>\n",
       "    </tr>\n",
       "    <tr>\n",
       "      <th>8764</th>\n",
       "      <td>2002-01-01 04:00:00</td>\n",
       "    </tr>\n",
       "  </tbody>\n",
       "</table>\n",
       "</div>"
      ],
      "text/plain": [
       "                    date\n",
       "8762 2002-01-01 02:00:00\n",
       "8763 2002-01-01 03:00:00\n",
       "8764 2002-01-01 04:00:00"
      ]
     },
     "execution_count": 1,
     "metadata": {},
     "output_type": "execute_result"
    }
   ],
   "source": [
    "# Load library\n",
    "import pandas as pd\n",
    "\n",
    "# Create data frame\n",
    "dataframe = pd.DataFrame()\n",
    "\n",
    "# Create datetimes\n",
    "dataframe['date'] = pd.date_range('1/1/2001', periods=100000, freq='H')\n",
    "\n",
    "# Select observations between two datetimes\n",
    "dataframe[(dataframe['date'] > '2002-1-1 01:00:00') &\n",
    " (dataframe['date'] <= '2002-1-1 04:00:00')]"
   ]
  },
  {
   "cell_type": "markdown",
   "id": "b99a6ef5-0ab5-48c8-a645-432520ceb7c5",
   "metadata": {},
   "source": [
    "# AlternatiVely"
   ]
  },
  {
   "cell_type": "code",
   "execution_count": 2,
   "id": "a9cbad44-9428-42d7-8f1e-8c44256330e7",
   "metadata": {},
   "outputs": [],
   "source": [
    "# Set index\n",
    "dataframe = dataframe.set_index(dataframe['date'])"
   ]
  },
  {
   "cell_type": "code",
   "execution_count": 3,
   "id": "fad76fc4-cb6f-4b31-b8ce-7059e350ea76",
   "metadata": {},
   "outputs": [
    {
     "data": {
      "text/html": [
       "<div>\n",
       "<style scoped>\n",
       "    .dataframe tbody tr th:only-of-type {\n",
       "        vertical-align: middle;\n",
       "    }\n",
       "\n",
       "    .dataframe tbody tr th {\n",
       "        vertical-align: top;\n",
       "    }\n",
       "\n",
       "    .dataframe thead th {\n",
       "        text-align: right;\n",
       "    }\n",
       "</style>\n",
       "<table border=\"1\" class=\"dataframe\">\n",
       "  <thead>\n",
       "    <tr style=\"text-align: right;\">\n",
       "      <th></th>\n",
       "      <th>date</th>\n",
       "    </tr>\n",
       "    <tr>\n",
       "      <th>date</th>\n",
       "      <th></th>\n",
       "    </tr>\n",
       "  </thead>\n",
       "  <tbody>\n",
       "    <tr>\n",
       "      <th>2002-01-01 01:00:00</th>\n",
       "      <td>2002-01-01 01:00:00</td>\n",
       "    </tr>\n",
       "    <tr>\n",
       "      <th>2002-01-01 02:00:00</th>\n",
       "      <td>2002-01-01 02:00:00</td>\n",
       "    </tr>\n",
       "    <tr>\n",
       "      <th>2002-01-01 03:00:00</th>\n",
       "      <td>2002-01-01 03:00:00</td>\n",
       "    </tr>\n",
       "    <tr>\n",
       "      <th>2002-01-01 04:00:00</th>\n",
       "      <td>2002-01-01 04:00:00</td>\n",
       "    </tr>\n",
       "  </tbody>\n",
       "</table>\n",
       "</div>"
      ],
      "text/plain": [
       "                                   date\n",
       "date                                   \n",
       "2002-01-01 01:00:00 2002-01-01 01:00:00\n",
       "2002-01-01 02:00:00 2002-01-01 02:00:00\n",
       "2002-01-01 03:00:00 2002-01-01 03:00:00\n",
       "2002-01-01 04:00:00 2002-01-01 04:00:00"
      ]
     },
     "execution_count": 3,
     "metadata": {},
     "output_type": "execute_result"
    }
   ],
   "source": [
    "# Select observations between two datetimes\n",
    "dataframe.loc['2002-1-1 01:00:00':'2002-1-1 04:00:00']"
   ]
  },
  {
   "cell_type": "markdown",
   "id": "bab497ac-4cf3-4a54-91aa-395155c2bf5b",
   "metadata": {},
   "source": [
    "Whether we use boolean conditions or index slicing is situation dependent. If we\n",
    "wanted to do some complex time series manipulation, it might be worth the overhead\n",
    "of setting the date column as the index of the DataFrame, but if we wanted to do\n",
    "some simple data wrangling, the boolean conditions might be easier."
   ]
  },
  {
   "cell_type": "code",
   "execution_count": null,
   "id": "c427bfc2-4f59-4e39-a1c4-db489d1952db",
   "metadata": {},
   "outputs": [],
   "source": []
  }
 ],
 "metadata": {
  "kernelspec": {
   "display_name": "Python 3",
   "language": "python",
   "name": "python3"
  },
  "language_info": {
   "codemirror_mode": {
    "name": "ipython",
    "version": 3
   },
   "file_extension": ".py",
   "mimetype": "text/x-python",
   "name": "python",
   "nbconvert_exporter": "python",
   "pygments_lexer": "ipython3",
   "version": "3.7.9"
  }
 },
 "nbformat": 4,
 "nbformat_minor": 5
}
