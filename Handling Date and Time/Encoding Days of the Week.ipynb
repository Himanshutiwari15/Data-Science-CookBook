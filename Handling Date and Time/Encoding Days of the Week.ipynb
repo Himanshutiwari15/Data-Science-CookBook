{
 "cells": [
  {
   "cell_type": "markdown",
   "id": "79d187d6-5f63-4c56-b197-9e0463b84e74",
   "metadata": {},
   "source": [
    "# Encoding Days of the Week"
   ]
  },
  {
   "cell_type": "markdown",
   "id": "a7a45668-3be1-48d6-9937-6f1d1de871aa",
   "metadata": {},
   "source": [
    "You have a vector of dates and want to know the day of the week for each date."
   ]
  },
  {
   "cell_type": "code",
   "execution_count": 10,
   "id": "dd6360cd-cdf4-4e83-ae4e-96e2ffaa134e",
   "metadata": {},
   "outputs": [
    {
     "data": {
      "text/plain": [
       "0    Thursday\n",
       "1      Sunday\n",
       "2     Tuesday\n",
       "dtype: object"
      ]
     },
     "execution_count": 10,
     "metadata": {},
     "output_type": "execute_result"
    }
   ],
   "source": [
    "# Load library\n",
    "import pandas as pd\n",
    "# Create dates\n",
    "dates = pd.Series(pd.date_range(\"2/2/2002\", periods=3, freq=\"M\"))\n",
    "# Show days of the week\n",
    "dates.dt.strftime(\"%A\")"
   ]
  },
  {
   "cell_type": "code",
   "execution_count": 11,
   "id": "d927ffc4-3a9b-4c38-a992-f5e11658e029",
   "metadata": {},
   "outputs": [
    {
     "data": {
      "text/plain": [
       "0    3\n",
       "1    6\n",
       "2    1\n",
       "dtype: int64"
      ]
     },
     "execution_count": 11,
     "metadata": {},
     "output_type": "execute_result"
    }
   ],
   "source": [
    "# Show days of the week\n",
    "dates.dt.weekday"
   ]
  },
  {
   "cell_type": "markdown",
   "id": "059b62d5-c282-4c5c-a28a-2671a2b3b8bd",
   "metadata": {},
   "source": [
    "Knowing the weekday can be helpful if, for instance, we wanted to compare total sales\n",
    "on Sundays for the past three years. pandas makes creating a feature vector contain‐\n",
    "ing weekday information easy."
   ]
  },
  {
   "cell_type": "code",
   "execution_count": null,
   "id": "6efaea00-32f0-4464-85b5-5ee2f1cff7ec",
   "metadata": {},
   "outputs": [],
   "source": []
  }
 ],
 "metadata": {
  "kernelspec": {
   "display_name": "Python 3",
   "language": "python",
   "name": "python3"
  },
  "language_info": {
   "codemirror_mode": {
    "name": "ipython",
    "version": 3
   },
   "file_extension": ".py",
   "mimetype": "text/x-python",
   "name": "python",
   "nbconvert_exporter": "python",
   "pygments_lexer": "ipython3",
   "version": "3.7.9"
  }
 },
 "nbformat": 4,
 "nbformat_minor": 5
}
