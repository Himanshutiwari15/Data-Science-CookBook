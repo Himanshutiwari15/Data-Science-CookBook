{
 "cells": [
  {
   "cell_type": "markdown",
   "id": "784de6cd-4d75-407f-9722-80631e2b86ae",
   "metadata": {},
   "source": [
    "# Replacing Values"
   ]
  },
  {
   "cell_type": "code",
   "execution_count": 1,
   "id": "f7f450f9-f0f3-4e11-83e1-3f289dda7bf2",
   "metadata": {},
   "outputs": [
    {
     "data": {
      "text/html": [
       "<div>\n",
       "<style scoped>\n",
       "    .dataframe tbody tr th:only-of-type {\n",
       "        vertical-align: middle;\n",
       "    }\n",
       "\n",
       "    .dataframe tbody tr th {\n",
       "        vertical-align: top;\n",
       "    }\n",
       "\n",
       "    .dataframe thead th {\n",
       "        text-align: right;\n",
       "    }\n",
       "</style>\n",
       "<table border=\"1\" class=\"dataframe\">\n",
       "  <thead>\n",
       "    <tr style=\"text-align: right;\">\n",
       "      <th></th>\n",
       "      <th>Name</th>\n",
       "      <th>PClass</th>\n",
       "      <th>Age</th>\n",
       "      <th>Sex</th>\n",
       "      <th>Survived</th>\n",
       "      <th>SexCode</th>\n",
       "    </tr>\n",
       "  </thead>\n",
       "  <tbody>\n",
       "    <tr>\n",
       "      <th>0</th>\n",
       "      <td>Allen, Miss Elisabeth Walton</td>\n",
       "      <td>1st</td>\n",
       "      <td>29.0</td>\n",
       "      <td>female</td>\n",
       "      <td>1</td>\n",
       "      <td>1</td>\n",
       "    </tr>\n",
       "    <tr>\n",
       "      <th>1</th>\n",
       "      <td>Allison, Miss Helen Loraine</td>\n",
       "      <td>1st</td>\n",
       "      <td>2.0</td>\n",
       "      <td>female</td>\n",
       "      <td>0</td>\n",
       "      <td>1</td>\n",
       "    </tr>\n",
       "  </tbody>\n",
       "</table>\n",
       "</div>"
      ],
      "text/plain": [
       "                           Name PClass   Age     Sex  Survived  SexCode\n",
       "0  Allen, Miss Elisabeth Walton    1st  29.0  female         1        1\n",
       "1   Allison, Miss Helen Loraine    1st   2.0  female         0        1"
      ]
     },
     "execution_count": 1,
     "metadata": {},
     "output_type": "execute_result"
    }
   ],
   "source": [
    "import pandas as pd\n",
    "\n",
    "url = 'https://raw.githubusercontent.com/chrisalbon/simulated_datasets/master/titanic.csv'\n",
    "\n",
    "df = pd.read_csv(url)\n",
    "df.head(2)"
   ]
  },
  {
   "cell_type": "code",
   "execution_count": 4,
   "id": "39d43f50-e36c-411d-b623-28146f1a61aa",
   "metadata": {},
   "outputs": [
    {
     "data": {
      "text/plain": [
       "92       male\n",
       "468     woman\n",
       "355     woman\n",
       "1094     male\n",
       "1016     male\n",
       "Name: Sex, dtype: object"
      ]
     },
     "execution_count": 4,
     "metadata": {},
     "output_type": "execute_result"
    }
   ],
   "source": [
    "df[\"Sex\"].replace(\"female\",\"woman\").sample(5)"
   ]
  },
  {
   "cell_type": "code",
   "execution_count": 5,
   "id": "d70d40da-bdfa-4534-8ffd-09d82797d382",
   "metadata": {},
   "outputs": [
    {
     "data": {
      "text/plain": [
       "58      woman\n",
       "1242      man\n",
       "650       man\n",
       "1277      man\n",
       "532     woman\n",
       "Name: Sex, dtype: object"
      ]
     },
     "execution_count": 5,
     "metadata": {},
     "output_type": "execute_result"
    }
   ],
   "source": [
    "df[\"Sex\"].replace([\"female\",\"male\"],[\"woman\",\"man\"]).sample(5)"
   ]
  },
  {
   "cell_type": "markdown",
   "id": "c0ba0387-c7c0-46dc-bb4e-a8cf4d20ef2e",
   "metadata": {},
   "source": [
    "## We can also find and replace across the entire DataFrame object by specifying the whole data frame instead of a single column:"
   ]
  },
  {
   "cell_type": "code",
   "execution_count": 6,
   "id": "d3604f5b-940a-4e55-b484-923c9ddefe4b",
   "metadata": {},
   "outputs": [
    {
     "data": {
      "text/html": [
       "<div>\n",
       "<style scoped>\n",
       "    .dataframe tbody tr th:only-of-type {\n",
       "        vertical-align: middle;\n",
       "    }\n",
       "\n",
       "    .dataframe tbody tr th {\n",
       "        vertical-align: top;\n",
       "    }\n",
       "\n",
       "    .dataframe thead th {\n",
       "        text-align: right;\n",
       "    }\n",
       "</style>\n",
       "<table border=\"1\" class=\"dataframe\">\n",
       "  <thead>\n",
       "    <tr style=\"text-align: right;\">\n",
       "      <th></th>\n",
       "      <th>Name</th>\n",
       "      <th>PClass</th>\n",
       "      <th>Age</th>\n",
       "      <th>Sex</th>\n",
       "      <th>Survived</th>\n",
       "      <th>SexCode</th>\n",
       "    </tr>\n",
       "  </thead>\n",
       "  <tbody>\n",
       "    <tr>\n",
       "      <th>0</th>\n",
       "      <td>Allen, Miss Elisabeth Walton</td>\n",
       "      <td>1st</td>\n",
       "      <td>29.0</td>\n",
       "      <td>female</td>\n",
       "      <td>ONE</td>\n",
       "      <td>ONE</td>\n",
       "    </tr>\n",
       "    <tr>\n",
       "      <th>1</th>\n",
       "      <td>Allison, Miss Helen Loraine</td>\n",
       "      <td>1st</td>\n",
       "      <td>2.0</td>\n",
       "      <td>female</td>\n",
       "      <td>0</td>\n",
       "      <td>ONE</td>\n",
       "    </tr>\n",
       "    <tr>\n",
       "      <th>2</th>\n",
       "      <td>Allison, Mr Hudson Joshua Creighton</td>\n",
       "      <td>1st</td>\n",
       "      <td>30.0</td>\n",
       "      <td>male</td>\n",
       "      <td>0</td>\n",
       "      <td>0</td>\n",
       "    </tr>\n",
       "    <tr>\n",
       "      <th>3</th>\n",
       "      <td>Allison, Mrs Hudson JC (Bessie Waldo Daniels)</td>\n",
       "      <td>1st</td>\n",
       "      <td>25.0</td>\n",
       "      <td>female</td>\n",
       "      <td>0</td>\n",
       "      <td>ONE</td>\n",
       "    </tr>\n",
       "    <tr>\n",
       "      <th>4</th>\n",
       "      <td>Allison, Master Hudson Trevor</td>\n",
       "      <td>1st</td>\n",
       "      <td>0.92</td>\n",
       "      <td>male</td>\n",
       "      <td>ONE</td>\n",
       "      <td>0</td>\n",
       "    </tr>\n",
       "  </tbody>\n",
       "</table>\n",
       "</div>"
      ],
      "text/plain": [
       "                                            Name PClass   Age     Sex  \\\n",
       "0                   Allen, Miss Elisabeth Walton    1st  29.0  female   \n",
       "1                    Allison, Miss Helen Loraine    1st   2.0  female   \n",
       "2            Allison, Mr Hudson Joshua Creighton    1st  30.0    male   \n",
       "3  Allison, Mrs Hudson JC (Bessie Waldo Daniels)    1st  25.0  female   \n",
       "4                  Allison, Master Hudson Trevor    1st  0.92    male   \n",
       "\n",
       "  Survived SexCode  \n",
       "0      ONE     ONE  \n",
       "1        0     ONE  \n",
       "2        0       0  \n",
       "3        0     ONE  \n",
       "4      ONE       0  "
      ]
     },
     "execution_count": 6,
     "metadata": {},
     "output_type": "execute_result"
    }
   ],
   "source": [
    "df.replace(1,\"ONE\").head(5)"
   ]
  },
  {
   "cell_type": "code",
   "execution_count": 9,
   "id": "c732d2fa-6540-4be0-8ca4-5a5672aaed9b",
   "metadata": {},
   "outputs": [
    {
     "data": {
      "text/html": [
       "<div>\n",
       "<style scoped>\n",
       "    .dataframe tbody tr th:only-of-type {\n",
       "        vertical-align: middle;\n",
       "    }\n",
       "\n",
       "    .dataframe tbody tr th {\n",
       "        vertical-align: top;\n",
       "    }\n",
       "\n",
       "    .dataframe thead th {\n",
       "        text-align: right;\n",
       "    }\n",
       "</style>\n",
       "<table border=\"1\" class=\"dataframe\">\n",
       "  <thead>\n",
       "    <tr style=\"text-align: right;\">\n",
       "      <th></th>\n",
       "      <th>Name</th>\n",
       "      <th>PClass</th>\n",
       "      <th>Age</th>\n",
       "      <th>Sex</th>\n",
       "      <th>Survived</th>\n",
       "      <th>SexCode</th>\n",
       "    </tr>\n",
       "  </thead>\n",
       "  <tbody>\n",
       "    <tr>\n",
       "      <th>56</th>\n",
       "      <td>Chaffee, Mrs Herbert Fuller (Carrie Constance ...</td>\n",
       "      <td>First</td>\n",
       "      <td>47.0</td>\n",
       "      <td>female</td>\n",
       "      <td>1</td>\n",
       "      <td>1</td>\n",
       "    </tr>\n",
       "    <tr>\n",
       "      <th>919</th>\n",
       "      <td>Kekic, Mr Tido</td>\n",
       "      <td>3rd</td>\n",
       "      <td>NaN</td>\n",
       "      <td>male</td>\n",
       "      <td>0</td>\n",
       "      <td>0</td>\n",
       "    </tr>\n",
       "    <tr>\n",
       "      <th>797</th>\n",
       "      <td>Farrell, Mr James</td>\n",
       "      <td>3rd</td>\n",
       "      <td>NaN</td>\n",
       "      <td>male</td>\n",
       "      <td>0</td>\n",
       "      <td>0</td>\n",
       "    </tr>\n",
       "    <tr>\n",
       "      <th>61</th>\n",
       "      <td>Chibnall (Bowerman), Mrs Edith Martha</td>\n",
       "      <td>First</td>\n",
       "      <td>NaN</td>\n",
       "      <td>female</td>\n",
       "      <td>1</td>\n",
       "      <td>1</td>\n",
       "    </tr>\n",
       "    <tr>\n",
       "      <th>579</th>\n",
       "      <td>Watt, Mrs James (Bessie Inglis Milne)</td>\n",
       "      <td>2nd</td>\n",
       "      <td>40.0</td>\n",
       "      <td>female</td>\n",
       "      <td>1</td>\n",
       "      <td>1</td>\n",
       "    </tr>\n",
       "  </tbody>\n",
       "</table>\n",
       "</div>"
      ],
      "text/plain": [
       "                                                  Name PClass   Age     Sex  \\\n",
       "56   Chaffee, Mrs Herbert Fuller (Carrie Constance ...  First  47.0  female   \n",
       "919                                     Kekic, Mr Tido    3rd   NaN    male   \n",
       "797                                  Farrell, Mr James    3rd   NaN    male   \n",
       "61               Chibnall (Bowerman), Mrs Edith Martha  First   NaN  female   \n",
       "579              Watt, Mrs James (Bessie Inglis Milne)    2nd  40.0  female   \n",
       "\n",
       "     Survived  SexCode  \n",
       "56          1        1  \n",
       "919         0        0  \n",
       "797         0        0  \n",
       "61          1        1  \n",
       "579         1        1  "
      ]
     },
     "execution_count": 9,
     "metadata": {},
     "output_type": "execute_result"
    }
   ],
   "source": [
    "df.replace(r\"1st\",\"First\",regex=True).sample(5) #The 'r' denotes a raw string"
   ]
  },
  {
   "cell_type": "markdown",
   "id": "e46ea006-f13d-425f-8e34-df05e0607480",
   "metadata": {},
   "source": [
    "## regex: It checks whether to interpret to_replace and/or value as regular expressions. If it is True, then to_replace must be a string. Otherwise, to_replace must be None because this parameter will be interpreted as a regular expression or a list, dict, or array of regular expressions."
   ]
  },
  {
   "cell_type": "code",
   "execution_count": null,
   "id": "5d60ebeb-88fb-48e5-b698-8522e315fdc1",
   "metadata": {},
   "outputs": [],
   "source": []
  },
  {
   "cell_type": "markdown",
   "id": "09188f1b-1005-4dbd-bf28-a55b87ce8141",
   "metadata": {},
   "source": [
    "## A Python raw string is a normal string, prefixed with a r or R. This treats characters such as backslash ('\\') as a literal character. This also means that this character will not be treated as a escape character. "
   ]
  },
  {
   "cell_type": "code",
   "execution_count": null,
   "id": "3b48dc11-e313-4e1e-aa9b-97fea5af834b",
   "metadata": {},
   "outputs": [],
   "source": []
  }
 ],
 "metadata": {
  "kernelspec": {
   "display_name": "Python 3",
   "language": "python",
   "name": "python3"
  },
  "language_info": {
   "codemirror_mode": {
    "name": "ipython",
    "version": 3
   },
   "file_extension": ".py",
   "mimetype": "text/x-python",
   "name": "python",
   "nbconvert_exporter": "python",
   "pygments_lexer": "ipython3",
   "version": "3.7.9"
  }
 },
 "nbformat": 4,
 "nbformat_minor": 5
}
