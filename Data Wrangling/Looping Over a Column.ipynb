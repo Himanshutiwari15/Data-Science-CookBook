{
 "cells": [
  {
   "cell_type": "markdown",
   "id": "5d80f4b3-8c28-44c8-bbe8-f24d0b9c102c",
   "metadata": {},
   "source": [
    "# Looping Over a Column"
   ]
  },
  {
   "cell_type": "code",
   "execution_count": 1,
   "id": "aa6f6d8d-d812-4d74-bb3d-0ba11ade1a28",
   "metadata": {},
   "outputs": [
    {
     "data": {
      "text/html": [
       "<div>\n",
       "<style scoped>\n",
       "    .dataframe tbody tr th:only-of-type {\n",
       "        vertical-align: middle;\n",
       "    }\n",
       "\n",
       "    .dataframe tbody tr th {\n",
       "        vertical-align: top;\n",
       "    }\n",
       "\n",
       "    .dataframe thead th {\n",
       "        text-align: right;\n",
       "    }\n",
       "</style>\n",
       "<table border=\"1\" class=\"dataframe\">\n",
       "  <thead>\n",
       "    <tr style=\"text-align: right;\">\n",
       "      <th></th>\n",
       "      <th>Name</th>\n",
       "      <th>PClass</th>\n",
       "      <th>Age</th>\n",
       "      <th>Sex</th>\n",
       "      <th>Survived</th>\n",
       "      <th>SexCode</th>\n",
       "    </tr>\n",
       "  </thead>\n",
       "  <tbody>\n",
       "    <tr>\n",
       "      <th>0</th>\n",
       "      <td>Allen, Miss Elisabeth Walton</td>\n",
       "      <td>1st</td>\n",
       "      <td>29.0</td>\n",
       "      <td>female</td>\n",
       "      <td>1</td>\n",
       "      <td>1</td>\n",
       "    </tr>\n",
       "    <tr>\n",
       "      <th>1</th>\n",
       "      <td>Allison, Miss Helen Loraine</td>\n",
       "      <td>1st</td>\n",
       "      <td>2.0</td>\n",
       "      <td>female</td>\n",
       "      <td>0</td>\n",
       "      <td>1</td>\n",
       "    </tr>\n",
       "  </tbody>\n",
       "</table>\n",
       "</div>"
      ],
      "text/plain": [
       "                           Name PClass   Age     Sex  Survived  SexCode\n",
       "0  Allen, Miss Elisabeth Walton    1st  29.0  female         1        1\n",
       "1   Allison, Miss Helen Loraine    1st   2.0  female         0        1"
      ]
     },
     "execution_count": 1,
     "metadata": {},
     "output_type": "execute_result"
    }
   ],
   "source": [
    "import pandas as pd\n",
    "\n",
    "url = 'https://raw.githubusercontent.com/chrisalbon/simulated_datasets/master/titanic.csv'\n",
    "\n",
    "df = pd.read_csv(url)\n",
    "df.head(2)"
   ]
  },
  {
   "cell_type": "code",
   "execution_count": 3,
   "id": "6dc07785-68c1-4b1f-906d-c90f640f3a36",
   "metadata": {},
   "outputs": [
    {
     "name": "stdout",
     "output_type": "stream",
     "text": [
      "ALLEN, MISS ELISABETH WALTON\n",
      "ALLISON, MISS HELEN LORAINE\n",
      "ALLISON, MR HUDSON JOSHUA CREIGHTON\n",
      "ALLISON, MRS HUDSON JC (BESSIE WALDO DANIELS)\n",
      "ALLISON, MASTER HUDSON TREVOR\n",
      "ANDERSON, MR HARRY\n",
      "ANDREWS, MISS KORNELIA THEODOSIA\n"
     ]
    }
   ],
   "source": [
    "for name in df.Name[0:7]:\n",
    "    print (name.upper())"
   ]
  },
  {
   "cell_type": "code",
   "execution_count": 4,
   "id": "3c57ec36-3a78-4ccd-b754-8106e9d3de07",
   "metadata": {},
   "outputs": [
    {
     "data": {
      "text/plain": [
       "['ALLEN, MISS ELISABETH WALTON',\n",
       " 'ALLISON, MISS HELEN LORAINE',\n",
       " 'ALLISON, MR HUDSON JOSHUA CREIGHTON',\n",
       " 'ALLISON, MRS HUDSON JC (BESSIE WALDO DANIELS)',\n",
       " 'ALLISON, MASTER HUDSON TREVOR',\n",
       " 'ANDERSON, MR HARRY',\n",
       " 'ANDREWS, MISS KORNELIA THEODOSIA']"
      ]
     },
     "execution_count": 4,
     "metadata": {},
     "output_type": "execute_result"
    }
   ],
   "source": [
    "[ name.upper() for name in df.Name[0:7]]"
   ]
  },
  {
   "cell_type": "markdown",
   "id": "d96a346a-7bff-4907-9bb4-04bc6f56a5ec",
   "metadata": {},
   "source": [
    "# Despite the temptation to fall back on for loops, a more Pythonic solution would use pandas’ apply method, described in the next recipe."
   ]
  },
  {
   "cell_type": "code",
   "execution_count": null,
   "id": "834cdc22-4149-40ef-b399-aca03907073e",
   "metadata": {},
   "outputs": [],
   "source": []
  }
 ],
 "metadata": {
  "kernelspec": {
   "display_name": "Python 3",
   "language": "python",
   "name": "python3"
  },
  "language_info": {
   "codemirror_mode": {
    "name": "ipython",
    "version": 3
   },
   "file_extension": ".py",
   "mimetype": "text/x-python",
   "name": "python",
   "nbconvert_exporter": "python",
   "pygments_lexer": "ipython3",
   "version": "3.7.9"
  }
 },
 "nbformat": 4,
 "nbformat_minor": 5
}
