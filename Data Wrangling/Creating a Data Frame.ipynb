{
 "cells": [
  {
   "cell_type": "markdown",
   "id": "b9ca296e-ccf0-49d9-b36d-2bcb3d90f2bd",
   "metadata": {},
   "source": [
    "# Creating a Data Frame"
   ]
  },
  {
   "cell_type": "code",
   "execution_count": 1,
   "id": "d0f0fcbb-75c8-4ce5-8f26-a6a21618425a",
   "metadata": {},
   "outputs": [],
   "source": [
    "import pandas as pd"
   ]
  },
  {
   "cell_type": "code",
   "execution_count": 2,
   "id": "816cfefc-66df-41ef-87f2-6f89c04d2279",
   "metadata": {},
   "outputs": [],
   "source": [
    "df = pd.DataFrame()"
   ]
  },
  {
   "cell_type": "code",
   "execution_count": 3,
   "id": "0e87df92-0e2f-420b-9e9e-8cf644aae9b9",
   "metadata": {},
   "outputs": [],
   "source": [
    "df['name'] = ['himanshu','gargi']"
   ]
  },
  {
   "cell_type": "code",
   "execution_count": 4,
   "id": "07e2f568-6987-4334-9bc3-bd91b914907b",
   "metadata": {},
   "outputs": [],
   "source": [
    "df['age'] = [20,20]\n",
    "df['course'] = ['BSc','BCOM']"
   ]
  },
  {
   "cell_type": "code",
   "execution_count": 5,
   "id": "ad0ce678-fa32-4f11-807e-edb2191d8f25",
   "metadata": {},
   "outputs": [
    {
     "data": {
      "text/html": [
       "<div>\n",
       "<style scoped>\n",
       "    .dataframe tbody tr th:only-of-type {\n",
       "        vertical-align: middle;\n",
       "    }\n",
       "\n",
       "    .dataframe tbody tr th {\n",
       "        vertical-align: top;\n",
       "    }\n",
       "\n",
       "    .dataframe thead th {\n",
       "        text-align: right;\n",
       "    }\n",
       "</style>\n",
       "<table border=\"1\" class=\"dataframe\">\n",
       "  <thead>\n",
       "    <tr style=\"text-align: right;\">\n",
       "      <th></th>\n",
       "      <th>name</th>\n",
       "      <th>age</th>\n",
       "      <th>course</th>\n",
       "    </tr>\n",
       "  </thead>\n",
       "  <tbody>\n",
       "    <tr>\n",
       "      <th>0</th>\n",
       "      <td>himanshu</td>\n",
       "      <td>20</td>\n",
       "      <td>BSc</td>\n",
       "    </tr>\n",
       "    <tr>\n",
       "      <th>1</th>\n",
       "      <td>gargi</td>\n",
       "      <td>20</td>\n",
       "      <td>BCOM</td>\n",
       "    </tr>\n",
       "  </tbody>\n",
       "</table>\n",
       "</div>"
      ],
      "text/plain": [
       "       name  age course\n",
       "0  himanshu   20    BSc\n",
       "1     gargi   20   BCOM"
      ]
     },
     "execution_count": 5,
     "metadata": {},
     "output_type": "execute_result"
    }
   ],
   "source": [
    "df"
   ]
  },
  {
   "cell_type": "markdown",
   "id": "7a1ea9ee-d69f-4191-ade5-d4f0bae90ab7",
   "metadata": {},
   "source": [
    "## Alternatively, once we have created a DataFrame object, we can append new rows to the bottom:"
   ]
  },
  {
   "cell_type": "code",
   "execution_count": 6,
   "id": "5c786549-56bc-472d-b675-92a0bcab3e40",
   "metadata": {},
   "outputs": [],
   "source": [
    "new_df = pd.Series(['yamini',21,'BSc'],index=['name','age','course'])"
   ]
  },
  {
   "cell_type": "markdown",
   "id": "cf7fb5da-2a7f-4ab6-ad70-2082e36cab0b",
   "metadata": {},
   "source": [
    "### point to remember is that always use S capital in Series"
   ]
  },
  {
   "cell_type": "code",
   "execution_count": 7,
   "id": "945b8954-d3a9-4f1d-a3e9-9d1ccddff68f",
   "metadata": {},
   "outputs": [
    {
     "data": {
      "text/html": [
       "<div>\n",
       "<style scoped>\n",
       "    .dataframe tbody tr th:only-of-type {\n",
       "        vertical-align: middle;\n",
       "    }\n",
       "\n",
       "    .dataframe tbody tr th {\n",
       "        vertical-align: top;\n",
       "    }\n",
       "\n",
       "    .dataframe thead th {\n",
       "        text-align: right;\n",
       "    }\n",
       "</style>\n",
       "<table border=\"1\" class=\"dataframe\">\n",
       "  <thead>\n",
       "    <tr style=\"text-align: right;\">\n",
       "      <th></th>\n",
       "      <th>name</th>\n",
       "      <th>age</th>\n",
       "      <th>course</th>\n",
       "    </tr>\n",
       "  </thead>\n",
       "  <tbody>\n",
       "    <tr>\n",
       "      <th>0</th>\n",
       "      <td>himanshu</td>\n",
       "      <td>20</td>\n",
       "      <td>BSc</td>\n",
       "    </tr>\n",
       "    <tr>\n",
       "      <th>1</th>\n",
       "      <td>gargi</td>\n",
       "      <td>20</td>\n",
       "      <td>BCOM</td>\n",
       "    </tr>\n",
       "    <tr>\n",
       "      <th>2</th>\n",
       "      <td>yamini</td>\n",
       "      <td>21</td>\n",
       "      <td>BSc</td>\n",
       "    </tr>\n",
       "  </tbody>\n",
       "</table>\n",
       "</div>"
      ],
      "text/plain": [
       "       name  age course\n",
       "0  himanshu   20    BSc\n",
       "1     gargi   20   BCOM\n",
       "2    yamini   21    BSc"
      ]
     },
     "execution_count": 7,
     "metadata": {},
     "output_type": "execute_result"
    }
   ],
   "source": [
    "df.append(new_df,ignore_index = True)"
   ]
  },
  {
   "cell_type": "code",
   "execution_count": 8,
   "id": "c7745066-2a9f-497f-8ff0-71bf8334740e",
   "metadata": {},
   "outputs": [
    {
     "data": {
      "text/html": [
       "<div>\n",
       "<style scoped>\n",
       "    .dataframe tbody tr th:only-of-type {\n",
       "        vertical-align: middle;\n",
       "    }\n",
       "\n",
       "    .dataframe tbody tr th {\n",
       "        vertical-align: top;\n",
       "    }\n",
       "\n",
       "    .dataframe thead th {\n",
       "        text-align: right;\n",
       "    }\n",
       "</style>\n",
       "<table border=\"1\" class=\"dataframe\">\n",
       "  <thead>\n",
       "    <tr style=\"text-align: right;\">\n",
       "      <th></th>\n",
       "      <th>name</th>\n",
       "      <th>age</th>\n",
       "      <th>course</th>\n",
       "    </tr>\n",
       "  </thead>\n",
       "  <tbody>\n",
       "    <tr>\n",
       "      <th>0</th>\n",
       "      <td>himanshu</td>\n",
       "      <td>20</td>\n",
       "      <td>BSc</td>\n",
       "    </tr>\n",
       "    <tr>\n",
       "      <th>1</th>\n",
       "      <td>gargi</td>\n",
       "      <td>20</td>\n",
       "      <td>BCOM</td>\n",
       "    </tr>\n",
       "  </tbody>\n",
       "</table>\n",
       "</div>"
      ],
      "text/plain": [
       "       name  age course\n",
       "0  himanshu   20    BSc\n",
       "1     gargi   20   BCOM"
      ]
     },
     "execution_count": 8,
     "metadata": {},
     "output_type": "execute_result"
    }
   ],
   "source": [
    "df #this is a dataframe"
   ]
  },
  {
   "cell_type": "code",
   "execution_count": 9,
   "id": "d52dbe51-8768-4f4b-9ad0-feb62ad01cc7",
   "metadata": {},
   "outputs": [
    {
     "data": {
      "text/plain": [
       "name      yamini\n",
       "age           21\n",
       "course       BSc\n",
       "dtype: object"
      ]
     },
     "execution_count": 9,
     "metadata": {},
     "output_type": "execute_result"
    }
   ],
   "source": [
    "new_df #this is a series"
   ]
  },
  {
   "cell_type": "code",
   "execution_count": null,
   "id": "c220de80-47c4-45ce-8412-3aaf0840a83f",
   "metadata": {},
   "outputs": [],
   "source": []
  }
 ],
 "metadata": {
  "kernelspec": {
   "display_name": "Python 3",
   "language": "python",
   "name": "python3"
  },
  "language_info": {
   "codemirror_mode": {
    "name": "ipython",
    "version": 3
   },
   "file_extension": ".py",
   "mimetype": "text/x-python",
   "name": "python",
   "nbconvert_exporter": "python",
   "pygments_lexer": "ipython3",
   "version": "3.7.9"
  }
 },
 "nbformat": 4,
 "nbformat_minor": 5
}
