{
 "cells": [
  {
   "cell_type": "markdown",
   "id": "c61f22d3-8efb-45be-8b9d-5c89aa60aa67",
   "metadata": {},
   "source": [
    "# Grouping Rows by Time"
   ]
  },
  {
   "cell_type": "code",
   "execution_count": 1,
   "id": "decfe23c-ae61-4fb9-92d5-0ab32a5135a8",
   "metadata": {},
   "outputs": [],
   "source": [
    "import pandas as pd\n",
    "import numpy as np"
   ]
  },
  {
   "cell_type": "code",
   "execution_count": 2,
   "id": "07e73173-b79c-467b-b63e-70393dcec613",
   "metadata": {},
   "outputs": [],
   "source": [
    "time_index =pd.date_range('06/06/2022',periods=100000,freq='30S')"
   ]
  },
  {
   "cell_type": "code",
   "execution_count": 4,
   "id": "2a5f6a7d-c187-4b33-8721-1d465d69df44",
   "metadata": {},
   "outputs": [],
   "source": [
    "df =pd.DataFrame(index=time_index)"
   ]
  },
  {
   "cell_type": "code",
   "execution_count": 6,
   "id": "665623b8-c40c-4b1e-8d7b-46e357f2d7fe",
   "metadata": {},
   "outputs": [],
   "source": [
    "df[\"sale_amount\"] = np.random.randint(1,10,100000)"
   ]
  },
  {
   "cell_type": "code",
   "execution_count": 7,
   "id": "6de0ac06-4cc9-4557-9280-f93581c41319",
   "metadata": {},
   "outputs": [
    {
     "data": {
      "text/html": [
       "<div>\n",
       "<style scoped>\n",
       "    .dataframe tbody tr th:only-of-type {\n",
       "        vertical-align: middle;\n",
       "    }\n",
       "\n",
       "    .dataframe tbody tr th {\n",
       "        vertical-align: top;\n",
       "    }\n",
       "\n",
       "    .dataframe thead th {\n",
       "        text-align: right;\n",
       "    }\n",
       "</style>\n",
       "<table border=\"1\" class=\"dataframe\">\n",
       "  <thead>\n",
       "    <tr style=\"text-align: right;\">\n",
       "      <th></th>\n",
       "      <th>sale_amount</th>\n",
       "    </tr>\n",
       "  </thead>\n",
       "  <tbody>\n",
       "    <tr>\n",
       "      <th>2022-07-06 00:38:30</th>\n",
       "      <td>4</td>\n",
       "    </tr>\n",
       "    <tr>\n",
       "      <th>2022-07-10 08:47:30</th>\n",
       "      <td>2</td>\n",
       "    </tr>\n",
       "    <tr>\n",
       "      <th>2022-06-18 04:41:00</th>\n",
       "      <td>8</td>\n",
       "    </tr>\n",
       "    <tr>\n",
       "      <th>2022-06-18 02:18:00</th>\n",
       "      <td>5</td>\n",
       "    </tr>\n",
       "    <tr>\n",
       "      <th>2022-06-22 11:28:00</th>\n",
       "      <td>2</td>\n",
       "    </tr>\n",
       "  </tbody>\n",
       "</table>\n",
       "</div>"
      ],
      "text/plain": [
       "                     sale_amount\n",
       "2022-07-06 00:38:30            4\n",
       "2022-07-10 08:47:30            2\n",
       "2022-06-18 04:41:00            8\n",
       "2022-06-18 02:18:00            5\n",
       "2022-06-22 11:28:00            2"
      ]
     },
     "execution_count": 7,
     "metadata": {},
     "output_type": "execute_result"
    }
   ],
   "source": [
    "df.sample(5)"
   ]
  },
  {
   "cell_type": "code",
   "execution_count": 8,
   "id": "df2d6438-2443-423b-ab00-409e37d63fd7",
   "metadata": {},
   "outputs": [
    {
     "data": {
      "text/html": [
       "<div>\n",
       "<style scoped>\n",
       "    .dataframe tbody tr th:only-of-type {\n",
       "        vertical-align: middle;\n",
       "    }\n",
       "\n",
       "    .dataframe tbody tr th {\n",
       "        vertical-align: top;\n",
       "    }\n",
       "\n",
       "    .dataframe thead th {\n",
       "        text-align: right;\n",
       "    }\n",
       "</style>\n",
       "<table border=\"1\" class=\"dataframe\">\n",
       "  <thead>\n",
       "    <tr style=\"text-align: right;\">\n",
       "      <th></th>\n",
       "      <th>sale_amount</th>\n",
       "    </tr>\n",
       "  </thead>\n",
       "  <tbody>\n",
       "    <tr>\n",
       "      <th>2022-06-12</th>\n",
       "      <td>100299</td>\n",
       "    </tr>\n",
       "    <tr>\n",
       "      <th>2022-06-19</th>\n",
       "      <td>100338</td>\n",
       "    </tr>\n",
       "    <tr>\n",
       "      <th>2022-06-26</th>\n",
       "      <td>99961</td>\n",
       "    </tr>\n",
       "    <tr>\n",
       "      <th>2022-07-03</th>\n",
       "      <td>100421</td>\n",
       "    </tr>\n",
       "    <tr>\n",
       "      <th>2022-07-10</th>\n",
       "      <td>96574</td>\n",
       "    </tr>\n",
       "  </tbody>\n",
       "</table>\n",
       "</div>"
      ],
      "text/plain": [
       "            sale_amount\n",
       "2022-06-12       100299\n",
       "2022-06-19       100338\n",
       "2022-06-26        99961\n",
       "2022-07-03       100421\n",
       "2022-07-10        96574"
      ]
     },
     "execution_count": 8,
     "metadata": {},
     "output_type": "execute_result"
    }
   ],
   "source": [
    "df.resample('W').sum()"
   ]
  },
  {
   "cell_type": "markdown",
   "id": "f0650915-23e7-4f6c-a079-75cc589edbbc",
   "metadata": {},
   "source": [
    "# Personally speaking meko ye google karna "
   ]
  },
  {
   "cell_type": "markdown",
   "id": "cc37b3f3-2a6c-4a0a-8f13-3a0b79da90d6",
   "metadata": {},
   "source": [
    "# itte ache se ye samajh aya nhi"
   ]
  },
  {
   "cell_type": "code",
   "execution_count": null,
   "id": "8e50a413-c54a-47d2-9427-619d22613088",
   "metadata": {},
   "outputs": [],
   "source": []
  }
 ],
 "metadata": {
  "kernelspec": {
   "display_name": "Python 3",
   "language": "python",
   "name": "python3"
  },
  "language_info": {
   "codemirror_mode": {
    "name": "ipython",
    "version": 3
   },
   "file_extension": ".py",
   "mimetype": "text/x-python",
   "name": "python",
   "nbconvert_exporter": "python",
   "pygments_lexer": "ipython3",
   "version": "3.7.9"
  }
 },
 "nbformat": 4,
 "nbformat_minor": 5
}
