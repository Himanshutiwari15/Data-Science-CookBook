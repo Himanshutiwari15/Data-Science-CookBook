{
 "cells": [
  {
   "cell_type": "markdown",
   "id": "dfeaf88d-ede4-4790-8cad-b648ee86ec5a",
   "metadata": {},
   "source": [
    "# Applying a Function Over All Elements in a Column"
   ]
  },
  {
   "cell_type": "code",
   "execution_count": 1,
   "id": "93843f36-09f3-439b-ba73-9f0067da626d",
   "metadata": {},
   "outputs": [
    {
     "data": {
      "text/html": [
       "<div>\n",
       "<style scoped>\n",
       "    .dataframe tbody tr th:only-of-type {\n",
       "        vertical-align: middle;\n",
       "    }\n",
       "\n",
       "    .dataframe tbody tr th {\n",
       "        vertical-align: top;\n",
       "    }\n",
       "\n",
       "    .dataframe thead th {\n",
       "        text-align: right;\n",
       "    }\n",
       "</style>\n",
       "<table border=\"1\" class=\"dataframe\">\n",
       "  <thead>\n",
       "    <tr style=\"text-align: right;\">\n",
       "      <th></th>\n",
       "      <th>Name</th>\n",
       "      <th>PClass</th>\n",
       "      <th>Age</th>\n",
       "      <th>Sex</th>\n",
       "      <th>Survived</th>\n",
       "      <th>SexCode</th>\n",
       "    </tr>\n",
       "  </thead>\n",
       "  <tbody>\n",
       "    <tr>\n",
       "      <th>0</th>\n",
       "      <td>Allen, Miss Elisabeth Walton</td>\n",
       "      <td>1st</td>\n",
       "      <td>29.0</td>\n",
       "      <td>female</td>\n",
       "      <td>1</td>\n",
       "      <td>1</td>\n",
       "    </tr>\n",
       "    <tr>\n",
       "      <th>1</th>\n",
       "      <td>Allison, Miss Helen Loraine</td>\n",
       "      <td>1st</td>\n",
       "      <td>2.0</td>\n",
       "      <td>female</td>\n",
       "      <td>0</td>\n",
       "      <td>1</td>\n",
       "    </tr>\n",
       "  </tbody>\n",
       "</table>\n",
       "</div>"
      ],
      "text/plain": [
       "                           Name PClass   Age     Sex  Survived  SexCode\n",
       "0  Allen, Miss Elisabeth Walton    1st  29.0  female         1        1\n",
       "1   Allison, Miss Helen Loraine    1st   2.0  female         0        1"
      ]
     },
     "execution_count": 1,
     "metadata": {},
     "output_type": "execute_result"
    }
   ],
   "source": [
    "import pandas as pd\n",
    "\n",
    "url = 'https://raw.githubusercontent.com/chrisalbon/simulated_datasets/master/titanic.csv'\n",
    "\n",
    "df = pd.read_csv(url)\n",
    "df.head(2)"
   ]
  },
  {
   "cell_type": "code",
   "execution_count": 2,
   "id": "b2ca9078-b8ee-4415-95e7-f044f80304f2",
   "metadata": {},
   "outputs": [],
   "source": [
    "def Uppercase(u):\n",
    "    return (u.upper())"
   ]
  },
  {
   "cell_type": "code",
   "execution_count": 3,
   "id": "b4468914-82dd-4771-9cc0-662c46a56fdf",
   "metadata": {},
   "outputs": [
    {
     "data": {
      "text/plain": [
       "0                     ALLEN, MISS ELISABETH WALTON\n",
       "1                      ALLISON, MISS HELEN LORAINE\n",
       "2              ALLISON, MR HUDSON JOSHUA CREIGHTON\n",
       "3    ALLISON, MRS HUDSON JC (BESSIE WALDO DANIELS)\n",
       "4                    ALLISON, MASTER HUDSON TREVOR\n",
       "5                               ANDERSON, MR HARRY\n",
       "6                 ANDREWS, MISS KORNELIA THEODOSIA\n",
       "Name: Name, dtype: object"
      ]
     },
     "execution_count": 3,
     "metadata": {},
     "output_type": "execute_result"
    }
   ],
   "source": [
    "df.Name.apply(Uppercase)[0:7]"
   ]
  },
  {
   "cell_type": "markdown",
   "id": "aee8d458-3282-4724-83c3-89700e22961c",
   "metadata": {},
   "source": [
    "### apply is a great way to do data cleaning and wrangling. It is common to write a function to perform some useful operation (separate first and last names, convert strings to floats, etc.) and then map that function to every element in a column."
   ]
  },
  {
   "cell_type": "code",
   "execution_count": null,
   "id": "e3012e2b-fec9-435b-a0ed-2740e109dce8",
   "metadata": {},
   "outputs": [],
   "source": []
  }
 ],
 "metadata": {
  "kernelspec": {
   "display_name": "Python 3",
   "language": "python",
   "name": "python3"
  },
  "language_info": {
   "codemirror_mode": {
    "name": "ipython",
    "version": 3
   },
   "file_extension": ".py",
   "mimetype": "text/x-python",
   "name": "python",
   "nbconvert_exporter": "python",
   "pygments_lexer": "ipython3",
   "version": "3.7.9"
  }
 },
 "nbformat": 4,
 "nbformat_minor": 5
}
