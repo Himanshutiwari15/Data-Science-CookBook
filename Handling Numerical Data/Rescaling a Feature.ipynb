{
 "cells": [
  {
   "cell_type": "markdown",
   "id": "28942a1f-62fb-4295-ae3e-edd2b2ae3e60",
   "metadata": {},
   "source": [
    "# Rescaling a Feature"
   ]
  },
  {
   "cell_type": "code",
   "execution_count": 3,
   "id": "0dbcf753-dbb4-4eac-a0d7-50b119688b42",
   "metadata": {},
   "outputs": [],
   "source": [
    "#Use scikit-learn’s MinMaxScaler to rescale a feature array:"
   ]
  },
  {
   "cell_type": "code",
   "execution_count": 5,
   "id": "dca6e0e7-a8d9-4dcb-a2fe-aa6d06818afb",
   "metadata": {},
   "outputs": [
    {
     "name": "stdout",
     "output_type": "stream",
     "text": [
      "Collecting scikit-learnNote: you may need to restart the kernel to use updated packages.\n",
      "  Downloading scikit_learn-1.0.2-cp37-cp37m-win_amd64.whl (7.1 MB)\n",
      "Requirement already satisfied: scipy in c:\\users\\91962\\appdata\\local\\programs\\python\\python37\\lib\\site-packages (1.7.1)\n",
      "Collecting scipy\n",
      "  Downloading scipy-1.7.3-cp37-cp37m-win_amd64.whl (34.1 MB)\n",
      "Requirement already satisfied: matplotlib in c:\\users\\91962\\appdata\\local\\programs\\python\\python37\\lib\\site-packages (3.4.3)\n",
      "\n",
      "Collecting matplotlib\n",
      "  Downloading matplotlib-3.5.1-cp37-cp37m-win_amd64.whl (7.2 MB)\n",
      "Collecting joblib>=0.11\n",
      "  Downloading joblib-1.1.0-py2.py3-none-any.whl (306 kB)\n",
      "Requirement already satisfied: numpy>=1.14.6 in c:\\users\\91962\\appdata\\local\\programs\\python\\python37\\lib\\site-packages (from scikit-learn) (1.21.2)\n",
      "Collecting threadpoolctl>=2.0.0\n",
      "  Downloading threadpoolctl-3.0.0-py3-none-any.whl (14 kB)\n",
      "Requirement already satisfied: cycler>=0.10 in c:\\users\\91962\\appdata\\local\\programs\\python\\python37\\lib\\site-packages (from matplotlib) (0.10.0)\n",
      "Requirement already satisfied: python-dateutil>=2.7 in c:\\users\\91962\\appdata\\roaming\\python\\python37\\site-packages (from matplotlib) (2.8.1)\n",
      "Requirement already satisfied: kiwisolver>=1.0.1 in c:\\users\\91962\\appdata\\local\\programs\\python\\python37\\lib\\site-packages (from matplotlib) (1.3.2)\n",
      "Requirement already satisfied: pillow>=6.2.0 in c:\\users\\91962\\appdata\\local\\programs\\python\\python37\\lib\\site-packages (from matplotlib) (8.4.0)\n",
      "Requirement already satisfied: pyparsing>=2.2.1 in c:\\users\\91962\\appdata\\local\\programs\\python\\python37\\lib\\site-packages (from matplotlib) (2.4.7)\n",
      "Requirement already satisfied: packaging>=20.0 in c:\\users\\91962\\appdata\\local\\programs\\python\\python37\\lib\\site-packages (from matplotlib) (21.0)\n",
      "Collecting fonttools>=4.22.0\n",
      "  Downloading fonttools-4.29.0-py3-none-any.whl (895 kB)\n",
      "Requirement already satisfied: six in c:\\users\\91962\\appdata\\roaming\\python\\python37\\site-packages (from cycler>=0.10->matplotlib) (1.15.0)\n",
      "Installing collected packages: threadpoolctl, scipy, joblib, fonttools, scikit-learn, matplotlib\n",
      "  Attempting uninstall: scipy\n",
      "    Found existing installation: scipy 1.7.1\n",
      "    Uninstalling scipy-1.7.1:\n",
      "      Successfully uninstalled scipy-1.7.1\n",
      "  Attempting uninstall: matplotlib\n",
      "    Found existing installation: matplotlib 3.4.3\n",
      "    Uninstalling matplotlib-3.4.3:\n",
      "      Successfully uninstalled matplotlib-3.4.3\n",
      "Successfully installed fonttools-4.29.0 joblib-1.1.0 matplotlib-3.5.1 scikit-learn-1.0.2 scipy-1.7.3 threadpoolctl-3.0.0\n"
     ]
    }
   ],
   "source": [
    "pip install -U scikit-learn scipy matplotlib"
   ]
  },
  {
   "cell_type": "code",
   "execution_count": 15,
   "id": "31378b26-0248-4c03-8958-fe336d32eed6",
   "metadata": {},
   "outputs": [],
   "source": [
    "import numpy as np\n",
    "from sklearn import preprocessing"
   ]
  },
  {
   "cell_type": "code",
   "execution_count": 16,
   "id": "132428c9-4eea-44d6-b7a2-095802763dce",
   "metadata": {},
   "outputs": [],
   "source": [
    "feature = np.array([[-500.5],\n",
    " [-100.1],\n",
    " [0],\n",
    " [100.1],\n",
    " [900.9]])"
   ]
  },
  {
   "cell_type": "code",
   "execution_count": 17,
   "id": "a36b7eb5-fe51-404a-8da0-e3aaa28c7bad",
   "metadata": {},
   "outputs": [
    {
     "data": {
      "text/plain": [
       "array([[-500.5],\n",
       "       [-100.1],\n",
       "       [   0. ],\n",
       "       [ 100.1],\n",
       "       [ 900.9]])"
      ]
     },
     "execution_count": 17,
     "metadata": {},
     "output_type": "execute_result"
    }
   ],
   "source": [
    "feature #created a feature"
   ]
  },
  {
   "cell_type": "code",
   "execution_count": 18,
   "id": "9ad4fcca-8359-48c9-bf7a-a9f92428c9fc",
   "metadata": {},
   "outputs": [],
   "source": [
    "minmax_scale = preprocessing.MinMaxScaler(feature_range=(0,1)) #create a scaler"
   ]
  },
  {
   "cell_type": "code",
   "execution_count": 19,
   "id": "e7e7d5dd-ca31-4b91-af9c-d1fc0d170436",
   "metadata": {},
   "outputs": [
    {
     "data": {
      "text/plain": [
       "MinMaxScaler()"
      ]
     },
     "execution_count": 19,
     "metadata": {},
     "output_type": "execute_result"
    }
   ],
   "source": [
    "minmax_scale"
   ]
  },
  {
   "cell_type": "code",
   "execution_count": 20,
   "id": "a97e7bd7-181f-46cc-9789-3e7671eef35a",
   "metadata": {},
   "outputs": [],
   "source": [
    "# Scale feature\n",
    "scaled_feature = minmax_scale.fit_transform(feature)"
   ]
  },
  {
   "cell_type": "code",
   "execution_count": 21,
   "id": "a426d946-1797-4283-94c3-4c3eb0963789",
   "metadata": {},
   "outputs": [
    {
     "data": {
      "text/plain": [
       "array([[0.        ],\n",
       "       [0.28571429],\n",
       "       [0.35714286],\n",
       "       [0.42857143],\n",
       "       [1.        ]])"
      ]
     },
     "execution_count": 21,
     "metadata": {},
     "output_type": "execute_result"
    }
   ],
   "source": [
    "scaled_feature"
   ]
  },
  {
   "cell_type": "markdown",
   "id": "e164fa78-6710-496f-87b4-da0dbbb255ba",
   "metadata": {},
   "source": [
    "### Rescaling is a common preprocessing task in machine learning. Many of the algo‐rithms described later in this book will assume all features are on the same scale, typi‐cally 0 to 1 or –1 to 1. There are a number of rescaling techniques, but one of thesimplest is called min-max scaling. Min-max scaling uses the minimum and maxi‐mum values of a feature to rescale values to within a range. Specifically, min-max cal‐culates:\n",
    "> # xi′ = (xi − min x) / (max x − min x)"
   ]
  },
  {
   "cell_type": "code",
   "execution_count": null,
   "id": "1510b2f0-2a87-48f0-8f01-7fa2252aacee",
   "metadata": {},
   "outputs": [],
   "source": []
  },
  {
   "cell_type": "code",
   "execution_count": null,
   "id": "3c74af6b-5d01-4214-b9c9-06feccc42ed3",
   "metadata": {},
   "outputs": [],
   "source": []
  }
 ],
 "metadata": {
  "kernelspec": {
   "display_name": "Python 3",
   "language": "python",
   "name": "python3"
  },
  "language_info": {
   "codemirror_mode": {
    "name": "ipython",
    "version": 3
   },
   "file_extension": ".py",
   "mimetype": "text/x-python",
   "name": "python",
   "nbconvert_exporter": "python",
   "pygments_lexer": "ipython3",
   "version": "3.7.9"
  }
 },
 "nbformat": 4,
 "nbformat_minor": 5
}
