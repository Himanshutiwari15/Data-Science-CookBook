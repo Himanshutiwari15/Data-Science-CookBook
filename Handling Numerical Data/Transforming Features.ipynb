{
 "cells": [
  {
   "cell_type": "markdown",
   "id": "14ea9005-abf8-4dd8-a68b-0cbb8e7ba7f9",
   "metadata": {},
   "source": [
    "# Transforming Features"
   ]
  },
  {
   "cell_type": "markdown",
   "id": "8bcb0a2d-da5a-43f3-9d8c-aeaee93fa807",
   "metadata": {},
   "source": [
    "In scikit-learn, use FunctionTransformer to apply a function to a set of features:"
   ]
  },
  {
   "cell_type": "code",
   "execution_count": 2,
   "id": "d3c10fd2-05ac-4343-bdc6-057b0d9b440c",
   "metadata": {},
   "outputs": [],
   "source": [
    "import numpy as np\n",
    "from sklearn.preprocessing import FunctionTransformer"
   ]
  },
  {
   "cell_type": "code",
   "execution_count": 3,
   "id": "676eca83-7999-4751-a7ab-ddca2c869d19",
   "metadata": {},
   "outputs": [],
   "source": [
    "# Create feature matrix\n",
    "features = np.array([[2, 3],\n",
    " [2, 3],\n",
    " [2, 3]])"
   ]
  },
  {
   "cell_type": "code",
   "execution_count": 4,
   "id": "775c16f7-ed93-402a-bde1-aac8a75a4e85",
   "metadata": {},
   "outputs": [],
   "source": [
    "# Define a simple function\n",
    "def add_ten(x):\n",
    " return x + 10"
   ]
  },
  {
   "cell_type": "code",
   "execution_count": 5,
   "id": "aed0fb9d-fdf7-4460-a34b-38fc0390eefc",
   "metadata": {},
   "outputs": [
    {
     "data": {
      "text/plain": [
       "FunctionTransformer(func=<function add_ten at 0x000001543EE6C318>)"
      ]
     },
     "execution_count": 5,
     "metadata": {},
     "output_type": "execute_result"
    }
   ],
   "source": [
    "# Create transformer\n",
    "ten_transformer = FunctionTransformer(add_ten)\n",
    "ten_transformer"
   ]
  },
  {
   "cell_type": "code",
   "execution_count": 6,
   "id": "b5cab6bc-f162-4ed7-b723-2b1092ce3ae6",
   "metadata": {},
   "outputs": [
    {
     "data": {
      "text/plain": [
       "array([[12, 13],\n",
       "       [12, 13],\n",
       "       [12, 13]])"
      ]
     },
     "execution_count": 6,
     "metadata": {},
     "output_type": "execute_result"
    }
   ],
   "source": [
    "ten_transformer.transform(features)"
   ]
  },
  {
   "cell_type": "markdown",
   "id": "12978bd8-763d-4589-953a-af376e6f6d18",
   "metadata": {},
   "source": [
    "# we can also use apply in pandas"
   ]
  },
  {
   "cell_type": "code",
   "execution_count": null,
   "id": "1213e154-769a-48ca-8ffd-8cb2d8ae2dff",
   "metadata": {},
   "outputs": [],
   "source": []
  }
 ],
 "metadata": {
  "kernelspec": {
   "display_name": "Python 3",
   "language": "python",
   "name": "python3"
  },
  "language_info": {
   "codemirror_mode": {
    "name": "ipython",
    "version": 3
   },
   "file_extension": ".py",
   "mimetype": "text/x-python",
   "name": "python",
   "nbconvert_exporter": "python",
   "pygments_lexer": "ipython3",
   "version": "3.7.9"
  }
 },
 "nbformat": 4,
 "nbformat_minor": 5
}
