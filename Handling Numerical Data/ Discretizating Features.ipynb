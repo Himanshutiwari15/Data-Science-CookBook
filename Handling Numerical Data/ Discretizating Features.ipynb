{
 "cells": [
  {
   "cell_type": "markdown",
   "id": "4fbb4348-e140-4477-8acb-1dc7b5ec79ea",
   "metadata": {},
   "source": [
    "#  Discretizating Features"
   ]
  },
  {
   "cell_type": "markdown",
   "id": "7d4713b9-d568-4bb5-833b-ec587fe7c582",
   "metadata": {},
   "source": [
    "You have a numerical feature and want to break it up into discrete bins"
   ]
  },
  {
   "cell_type": "markdown",
   "id": "0f61a458-6027-429f-9389-a72529692397",
   "metadata": {},
   "source": [
    "Depending on how we want to break up the data, there are two techniques we can\n",
    "use. First, we can binarize the feature according to some threshold:"
   ]
  },
  {
   "cell_type": "code",
   "execution_count": 13,
   "id": "89ad9afb-244b-43b8-bec9-ad13800c11a2",
   "metadata": {},
   "outputs": [],
   "source": [
    "# Load libraries\n",
    "import numpy as np\n",
    "from sklearn.preprocessing import Binarizer\n",
    "# Create feature\n",
    "age = np.array([[6],\n",
    " [12],\n",
    " [20],\n",
    " [36],\n",
    " [65]])"
   ]
  },
  {
   "cell_type": "code",
   "execution_count": 14,
   "id": "695cee32-35a7-4428-8d89-644c21d7e221",
   "metadata": {},
   "outputs": [
    {
     "data": {
      "text/plain": [
       "array([[ 6],\n",
       "       [12],\n",
       "       [20],\n",
       "       [36],\n",
       "       [65]])"
      ]
     },
     "execution_count": 14,
     "metadata": {},
     "output_type": "execute_result"
    }
   ],
   "source": [
    "age"
   ]
  },
  {
   "cell_type": "code",
   "execution_count": 15,
   "id": "2270fa2e-87d3-46ca-8ca3-d09105e345c2",
   "metadata": {},
   "outputs": [],
   "source": [
    "# Create binarizer\n",
    "binarizer = Binarizer(threshold=18)"
   ]
  },
  {
   "cell_type": "code",
   "execution_count": 16,
   "id": "ecd5a71a-229c-4d32-b88c-b12d8920203b",
   "metadata": {},
   "outputs": [
    {
     "data": {
      "text/plain": [
       "array([[0],\n",
       "       [0],\n",
       "       [1],\n",
       "       [1],\n",
       "       [1]])"
      ]
     },
     "execution_count": 16,
     "metadata": {},
     "output_type": "execute_result"
    }
   ],
   "source": [
    "binarizer.fit_transform(age)"
   ]
  },
  {
   "cell_type": "markdown",
   "id": "40a903ca-8131-4acc-a46b-a8829eecb22a",
   "metadata": {},
   "source": [
    "Second, we can break up numerical features according to multiple thresholds"
   ]
  },
  {
   "cell_type": "code",
   "execution_count": 17,
   "id": "b43fc7b3-5f6a-4601-8288-4f5cb4fcfd0e",
   "metadata": {},
   "outputs": [
    {
     "data": {
      "text/plain": [
       "array([[0],\n",
       "       [0],\n",
       "       [1],\n",
       "       [2],\n",
       "       [3]], dtype=int64)"
      ]
     },
     "execution_count": 17,
     "metadata": {},
     "output_type": "execute_result"
    }
   ],
   "source": [
    "np.digitize(age, bins=[20,30,64])"
   ]
  },
  {
   "cell_type": "code",
   "execution_count": 19,
   "id": "e1353f35-e62b-4104-8d59-a2a7bda1f816",
   "metadata": {},
   "outputs": [
    {
     "data": {
      "text/plain": [
       "array([[0],\n",
       "       [0],\n",
       "       [1],\n",
       "       [1],\n",
       "       [1]], dtype=int64)"
      ]
     },
     "execution_count": 19,
     "metadata": {},
     "output_type": "execute_result"
    }
   ],
   "source": [
    "# Bin feature\n",
    "np.digitize(age, bins=[18])"
   ]
  },
  {
   "cell_type": "code",
   "execution_count": null,
   "id": "a13bc4e5-2cca-495c-a5b3-ac7f45276fd4",
   "metadata": {},
   "outputs": [],
   "source": []
  }
 ],
 "metadata": {
  "kernelspec": {
   "display_name": "Python 3",
   "language": "python",
   "name": "python3"
  },
  "language_info": {
   "codemirror_mode": {
    "name": "ipython",
    "version": 3
   },
   "file_extension": ".py",
   "mimetype": "text/x-python",
   "name": "python",
   "nbconvert_exporter": "python",
   "pygments_lexer": "ipython3",
   "version": "3.7.9"
  }
 },
 "nbformat": 4,
 "nbformat_minor": 5
}
