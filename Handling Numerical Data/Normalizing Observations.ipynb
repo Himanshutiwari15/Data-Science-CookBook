{
 "cells": [
  {
   "cell_type": "markdown",
   "id": "4d799b3e-8c23-469f-914e-904d5b5a2a06",
   "metadata": {},
   "source": [
    "# Normalizing Observations"
   ]
  },
  {
   "cell_type": "markdown",
   "id": "be9a1514-e867-46ea-8689-46ac9827b817",
   "metadata": {},
   "source": [
    "You want to rescale the feature values of observations to have unit norm (a total\n",
    "length of 1)"
   ]
  },
  {
   "cell_type": "code",
   "execution_count": 1,
   "id": "ae122551-c30a-4e37-bfd4-6306fa669a74",
   "metadata": {},
   "outputs": [],
   "source": [
    "import numpy as np\n",
    "from sklearn.preprocessing import Normalizer"
   ]
  },
  {
   "cell_type": "code",
   "execution_count": 2,
   "id": "bf9cb727-8e55-4a85-8925-fb9caf06f063",
   "metadata": {},
   "outputs": [],
   "source": [
    "features = np.array([[0.5, 0.5],\n",
    " [1.1, 3.4],\n",
    " [1.5, 20.2],\n",
    " [1.63, 34.4],\n",
    " [10.9, 3.3]])"
   ]
  },
  {
   "cell_type": "code",
   "execution_count": 3,
   "id": "5b7ce6d3-80aa-4a9a-b2b6-81713abe82c3",
   "metadata": {},
   "outputs": [
    {
     "data": {
      "text/plain": [
       "array([[ 0.5 ,  0.5 ],\n",
       "       [ 1.1 ,  3.4 ],\n",
       "       [ 1.5 , 20.2 ],\n",
       "       [ 1.63, 34.4 ],\n",
       "       [10.9 ,  3.3 ]])"
      ]
     },
     "execution_count": 3,
     "metadata": {},
     "output_type": "execute_result"
    }
   ],
   "source": [
    "features"
   ]
  },
  {
   "cell_type": "code",
   "execution_count": 4,
   "id": "8d2b0918-5ef3-4506-a6cd-01c84a7bdd92",
   "metadata": {},
   "outputs": [],
   "source": [
    "normalizer = Normalizer(norm=\"l2\")"
   ]
  },
  {
   "cell_type": "code",
   "execution_count": 5,
   "id": "0b0fe80a-e2ce-4cf3-b792-70f0d77b8b14",
   "metadata": {},
   "outputs": [
    {
     "data": {
      "text/plain": [
       "array([[0.70710678, 0.70710678],\n",
       "       [0.30782029, 0.95144452],\n",
       "       [0.07405353, 0.99725427],\n",
       "       [0.04733062, 0.99887928],\n",
       "       [0.95709822, 0.28976368]])"
      ]
     },
     "execution_count": 5,
     "metadata": {},
     "output_type": "execute_result"
    }
   ],
   "source": [
    "normalizer.transform(features)"
   ]
  },
  {
   "cell_type": "markdown",
   "id": "9f6952e6-ab91-4daf-b24b-57664ad4c6c2",
   "metadata": {},
   "source": [
    "### Many rescaling methods (e.g., min-max scaling and standardization) operate on fea‐tures; however, we can also rescale across individual observations. Normalizerrescales the values on individual observations to have unit norm (the sum of theirlengths is 1). This type of rescaling is often used when we have many equivalent fea‐tures (e.g., text classification when every word or n-word group is a feature).\n",
    "\n",
    "### Normalizer provides three norm options with Euclidean norm (often called L2)being the default argument:\n",
    "\n",
    "\n",
    " ## ||x||2 = (x1^2 + x2^2 +....+ xn^2)^(1/2)\n",
    "\n"
   ]
  },
  {
   "cell_type": "markdown",
   "id": "0dda3027-f75a-4ded-a66e-1446b4663bb8",
   "metadata": {},
   "source": [
    "## Alternatively, we can specify Manhattan norm (L1):"
   ]
  },
  {
   "cell_type": "markdown",
   "id": "2f53ea78-81bc-46be-8742-8110b1bedeb6",
   "metadata": {},
   "source": [
    "Intuitively, L2 norm can be thought of as the distance between two points in New\n",
    "York for a bird (i.e., a straight line), while L1 can be thought of as the distance for a\n",
    "human walking on the street (walk north one block, east one block, north one block,\n",
    "east one block, etc.), which is why it is called “Manhattan norm” or “Taxicab norm.”"
   ]
  },
  {
   "cell_type": "code",
   "execution_count": null,
   "id": "7e18e804-89cd-42e1-a43a-419465091125",
   "metadata": {},
   "outputs": [],
   "source": []
  }
 ],
 "metadata": {
  "kernelspec": {
   "display_name": "Python 3",
   "language": "python",
   "name": "python3"
  },
  "language_info": {
   "codemirror_mode": {
    "name": "ipython",
    "version": 3
   },
   "file_extension": ".py",
   "mimetype": "text/x-python",
   "name": "python",
   "nbconvert_exporter": "python",
   "pygments_lexer": "ipython3",
   "version": "3.7.9"
  }
 },
 "nbformat": 4,
 "nbformat_minor": 5
}
