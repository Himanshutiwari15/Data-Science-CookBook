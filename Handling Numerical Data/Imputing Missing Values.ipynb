{
 "cells": [
  {
   "cell_type": "markdown",
   "id": "3259d29f-b74c-43c1-b615-d0f48abc15d2",
   "metadata": {},
   "source": [
    "# Imputing Missing Values"
   ]
  },
  {
   "cell_type": "markdown",
   "id": "ab05097d-8523-4b74-9b0d-120e246dce22",
   "metadata": {},
   "source": [
    "You have missing values in your data and want to fill in or predict their values"
   ]
  },
  {
   "cell_type": "markdown",
   "id": "00099441-c5eb-498f-bbaa-109c1a695149",
   "metadata": {},
   "source": [
    "## If you have a small amount of data, predict the missing values using k-nearest neighbors (KNN)"
   ]
  },
  {
   "cell_type": "code",
   "execution_count": 1,
   "id": "4d4cd345-cd14-4e25-9a24-aa0268eeff48",
   "metadata": {},
   "outputs": [
    {
     "name": "stdout",
     "output_type": "stream",
     "text": [
      "Requirement already satisfied: fancyimpute in c:\\users\\91962\\appdata\\local\\programs\\python\\python37\\lib\\site-packages (0.7.0)Note: you may need to restart the kernel to use updated packages.\n",
      "Requirement already satisfied: knnimpute>=0.1.0 in c:\\users\\91962\\appdata\\local\\programs\\python\\python37\\lib\\site-packages (from fancyimpute) (0.1.0)\n",
      "Requirement already satisfied: scikit-learn>=0.24.2 in c:\\users\\91962\\appdata\\local\\programs\\python\\python37\\lib\\site-packages (from fancyimpute) (1.0.2)\n",
      "Requirement already satisfied: cvxpy in c:\\users\\91962\\appdata\\local\\programs\\python\\python37\\lib\\site-packages (from fancyimpute) (1.1.18)\n",
      "Requirement already satisfied: cvxopt in c:\\users\\91962\\appdata\\local\\programs\\python\\python37\\lib\\site-packages (from fancyimpute) (1.2.7)\n",
      "\n",
      "Requirement already satisfied: pytest in c:\\users\\91962\\appdata\\local\\programs\\python\\python37\\lib\\site-packages (from fancyimpute) (6.2.5)\n",
      "Requirement already satisfied: nose in c:\\users\\91962\\appdata\\local\\programs\\python\\python37\\lib\\site-packages (from fancyimpute) (1.3.7)\n",
      "Requirement already satisfied: six in c:\\users\\91962\\appdata\\roaming\\python\\python37\\site-packages (from knnimpute>=0.1.0->fancyimpute) (1.15.0)\n",
      "Requirement already satisfied: numpy>=1.10 in c:\\users\\91962\\appdata\\local\\programs\\python\\python37\\lib\\site-packages (from knnimpute>=0.1.0->fancyimpute) (1.21.2)\n",
      "Requirement already satisfied: joblib>=0.11 in c:\\users\\91962\\appdata\\local\\programs\\python\\python37\\lib\\site-packages (from scikit-learn>=0.24.2->fancyimpute) (1.1.0)\n",
      "Requirement already satisfied: threadpoolctl>=2.0.0 in c:\\users\\91962\\appdata\\local\\programs\\python\\python37\\lib\\site-packages (from scikit-learn>=0.24.2->fancyimpute) (3.0.0)\n",
      "Requirement already satisfied: scipy>=1.1.0 in c:\\users\\91962\\appdata\\local\\programs\\python\\python37\\lib\\site-packages (from scikit-learn>=0.24.2->fancyimpute) (1.7.3)\n",
      "Requirement already satisfied: osqp>=0.4.1 in c:\\users\\91962\\appdata\\local\\programs\\python\\python37\\lib\\site-packages (from cvxpy->fancyimpute) (0.6.2.post5)\n",
      "Requirement already satisfied: ecos>=2 in c:\\users\\91962\\appdata\\local\\programs\\python\\python37\\lib\\site-packages (from cvxpy->fancyimpute) (2.0.10)\n",
      "Requirement already satisfied: scs>=1.1.6 in c:\\users\\91962\\appdata\\local\\programs\\python\\python37\\lib\\site-packages (from cvxpy->fancyimpute) (3.1.0)\n",
      "Requirement already satisfied: atomicwrites>=1.0 in c:\\users\\91962\\appdata\\local\\programs\\python\\python37\\lib\\site-packages (from pytest->fancyimpute) (1.4.0)\n",
      "Requirement already satisfied: pluggy<2.0,>=0.12 in c:\\users\\91962\\appdata\\local\\programs\\python\\python37\\lib\\site-packages (from pytest->fancyimpute) (1.0.0)\n",
      "Requirement already satisfied: packaging in c:\\users\\91962\\appdata\\local\\programs\\python\\python37\\lib\\site-packages (from pytest->fancyimpute) (21.0)\n",
      "Requirement already satisfied: colorama in c:\\users\\91962\\appdata\\roaming\\python\\python37\\site-packages (from pytest->fancyimpute) (0.4.3)\n",
      "Requirement already satisfied: toml in c:\\users\\91962\\appdata\\roaming\\python\\python37\\site-packages (from pytest->fancyimpute) (0.10.2)\n",
      "Requirement already satisfied: iniconfig in c:\\users\\91962\\appdata\\local\\programs\\python\\python37\\lib\\site-packages (from pytest->fancyimpute) (1.1.1)\n",
      "Requirement already satisfied: py>=1.8.2 in c:\\users\\91962\\appdata\\local\\programs\\python\\python37\\lib\\site-packages (from pytest->fancyimpute) (1.11.0)\n",
      "Requirement already satisfied: importlib-metadata>=0.12 in c:\\users\\91962\\appdata\\local\\programs\\python\\python37\\lib\\site-packages (from pytest->fancyimpute) (4.8.1)\n",
      "Requirement already satisfied: attrs>=19.2.0 in c:\\users\\91962\\appdata\\local\\programs\\python\\python37\\lib\\site-packages (from pytest->fancyimpute) (21.2.0)\n",
      "Requirement already satisfied: zipp>=0.5 in c:\\users\\91962\\appdata\\local\\programs\\python\\python37\\lib\\site-packages (from importlib-metadata>=0.12->pytest->fancyimpute) (3.6.0)\n",
      "Requirement already satisfied: typing-extensions>=3.6.4 in c:\\users\\91962\\appdata\\local\\programs\\python\\python37\\lib\\site-packages (from importlib-metadata>=0.12->pytest->fancyimpute) (3.10.0.2)\n",
      "Requirement already satisfied: qdldl in c:\\users\\91962\\appdata\\local\\programs\\python\\python37\\lib\\site-packages (from osqp>=0.4.1->cvxpy->fancyimpute) (0.1.5.post0)\n",
      "Requirement already satisfied: pyparsing>=2.0.2 in c:\\users\\91962\\appdata\\local\\programs\\python\\python37\\lib\\site-packages (from packaging->pytest->fancyimpute) (2.4.7)\n"
     ]
    }
   ],
   "source": [
    "pip install fancyimpute"
   ]
  },
  {
   "cell_type": "code",
   "execution_count": 2,
   "id": "3e55d8ef-5206-43fd-abf8-c209125a7d96",
   "metadata": {},
   "outputs": [],
   "source": [
    "import numpy as np\n",
    "from fancyimpute import KNN\n",
    "from sklearn.preprocessing import StandardScaler\n",
    "from sklearn.datasets import make_blobs"
   ]
  },
  {
   "cell_type": "code",
   "execution_count": 3,
   "id": "55704af6-c264-49a2-9a48-9fae693fc1bf",
   "metadata": {},
   "outputs": [],
   "source": [
    "# Make a simulated feature matrix\n",
    "features, _ = make_blobs(n_samples = 1000,\n",
    " n_features = 2,\n",
    " random_state = 1)"
   ]
  },
  {
   "cell_type": "code",
   "execution_count": 4,
   "id": "1256aa03-afb9-4622-b285-73b79188ab4c",
   "metadata": {},
   "outputs": [
    {
     "data": {
      "text/plain": [
       "array([[-3.05837272,  4.48825769],\n",
       "       [-8.60973869, -3.72714879],\n",
       "       [ 1.37129721,  5.23107449],\n",
       "       ...,\n",
       "       [-1.91854276,  4.59578307],\n",
       "       [-1.79600465,  4.28743568],\n",
       "       [-6.97684609, -8.89498834]])"
      ]
     },
     "execution_count": 4,
     "metadata": {},
     "output_type": "execute_result"
    }
   ],
   "source": [
    "features"
   ]
  },
  {
   "cell_type": "code",
   "execution_count": 5,
   "id": "39d23b04-bb5e-46c1-b51a-707c8e251a34",
   "metadata": {},
   "outputs": [],
   "source": [
    "# Standardize the features\n",
    "scaler = StandardScaler()\n",
    "standardized_features = scaler.fit_transform(features)"
   ]
  },
  {
   "cell_type": "code",
   "execution_count": 6,
   "id": "0920f8f9-52ad-4fd5-a8d2-98da97670065",
   "metadata": {},
   "outputs": [
    {
     "data": {
      "text/plain": [
       "array([[-3.05837272,  4.48825769],\n",
       "       [-8.60973869, -3.72714879],\n",
       "       [ 1.37129721,  5.23107449],\n",
       "       ...,\n",
       "       [-1.91854276,  4.59578307],\n",
       "       [-1.79600465,  4.28743568],\n",
       "       [-6.97684609, -8.89498834]])"
      ]
     },
     "execution_count": 6,
     "metadata": {},
     "output_type": "execute_result"
    }
   ],
   "source": [
    "features"
   ]
  },
  {
   "cell_type": "code",
   "execution_count": 7,
   "id": "a1d1d4b4-85d8-4369-bccd-eb862ee9d10d",
   "metadata": {},
   "outputs": [
    {
     "data": {
      "text/plain": [
       "array([[ 0.87301861,  1.31426523],\n",
       "       [-0.67073178, -0.22369263],\n",
       "       [ 2.1048424 ,  1.45332359],\n",
       "       ...,\n",
       "       [ 1.18998798,  1.33439442],\n",
       "       [ 1.22406396,  1.27667052],\n",
       "       [-0.21664919, -1.19113343]])"
      ]
     },
     "execution_count": 7,
     "metadata": {},
     "output_type": "execute_result"
    }
   ],
   "source": [
    "standardized_features"
   ]
  },
  {
   "cell_type": "code",
   "execution_count": 8,
   "id": "e2e6cb26-77f5-4aea-8c38-3934c54c4009",
   "metadata": {},
   "outputs": [],
   "source": [
    "# Replace the first feature's first value with a missing value\n",
    "true_value = standardized_features[0,0]\n",
    "standardized_features[0,0] = np.nan"
   ]
  },
  {
   "cell_type": "code",
   "execution_count": 9,
   "id": "4006c208-148a-4deb-bf5a-9d14fade39fb",
   "metadata": {},
   "outputs": [
    {
     "data": {
      "text/plain": [
       "array([[        nan,  1.31426523],\n",
       "       [-0.67073178, -0.22369263],\n",
       "       [ 2.1048424 ,  1.45332359],\n",
       "       ...,\n",
       "       [ 1.18998798,  1.33439442],\n",
       "       [ 1.22406396,  1.27667052],\n",
       "       [-0.21664919, -1.19113343]])"
      ]
     },
     "execution_count": 9,
     "metadata": {},
     "output_type": "execute_result"
    }
   ],
   "source": [
    "standardized_features"
   ]
  },
  {
   "cell_type": "code",
   "execution_count": 11,
   "id": "5288c87d-1837-4e5d-9f4d-98063f59fe7f",
   "metadata": {},
   "outputs": [],
   "source": [
    "# Predict the missing values in the feature matrix\n",
    "features_knn_imputed = KNN(k=5, verbose=0).fit_transform(standardized_features)"
   ]
  },
  {
   "cell_type": "code",
   "execution_count": 12,
   "id": "2b2a69bd-9c98-40f1-97e9-0a586b107d18",
   "metadata": {},
   "outputs": [
    {
     "data": {
      "text/plain": [
       "array([[ 1.09553327,  1.31426523],\n",
       "       [-0.67073178, -0.22369263],\n",
       "       [ 2.1048424 ,  1.45332359],\n",
       "       ...,\n",
       "       [ 1.18998798,  1.33439442],\n",
       "       [ 1.22406396,  1.27667052],\n",
       "       [-0.21664919, -1.19113343]])"
      ]
     },
     "execution_count": 12,
     "metadata": {},
     "output_type": "execute_result"
    }
   ],
   "source": [
    "features_knn_imputed"
   ]
  },
  {
   "cell_type": "code",
   "execution_count": 13,
   "id": "d3581fc1-e5d7-4466-ae7e-035cb90b1933",
   "metadata": {},
   "outputs": [
    {
     "name": "stdout",
     "output_type": "stream",
     "text": [
      "True Value: 0.8730186113995938\n",
      "Imputed Value: 1.0955332713113226\n"
     ]
    }
   ],
   "source": [
    "# Compare true and imputed values\n",
    "print(\"True Value:\", true_value)\n",
    "print(\"Imputed Value:\", features_knn_imputed[0,0])"
   ]
  },
  {
   "cell_type": "markdown",
   "id": "a8c06ab3-0c0d-44ff-b41d-bc68862ed41a",
   "metadata": {},
   "source": [
    "### Alternatively, we can use scikit-learn’s Imputer module to fill in missing values withthe feature’s mean, median, or most frequent value. However, we will typically get worse results than KNN:"
   ]
  },
  {
   "cell_type": "code",
   "execution_count": 15,
   "id": "ef89a9d6-6b06-4ef6-8d96-84ab0b902dee",
   "metadata": {},
   "outputs": [],
   "source": [
    "# Load library\n",
    "from sklearn.impute import SimpleImputer"
   ]
  },
  {
   "cell_type": "code",
   "execution_count": 16,
   "id": "057b6759-876e-48ca-9130-3f5b49ef49c2",
   "metadata": {},
   "outputs": [],
   "source": [
    "# Create imputer\n",
    "mean_imputer = SimpleImputer(missing_values=np.nan, strategy='mean')"
   ]
  },
  {
   "cell_type": "code",
   "execution_count": 17,
   "id": "cad9d733-1dc8-4eb2-b5d6-c48e867127c3",
   "metadata": {},
   "outputs": [
    {
     "data": {
      "text/plain": [
       "SimpleImputer()"
      ]
     },
     "execution_count": 17,
     "metadata": {},
     "output_type": "execute_result"
    }
   ],
   "source": [
    "mean_imputer"
   ]
  },
  {
   "cell_type": "code",
   "execution_count": 18,
   "id": "4cc626f7-4eac-4b1e-b90b-56a05ee95173",
   "metadata": {},
   "outputs": [],
   "source": [
    "features_mean_imputed = mean_imputer.fit_transform(features)"
   ]
  },
  {
   "cell_type": "code",
   "execution_count": 19,
   "id": "8a14094c-f967-465a-9239-943bf3ea6474",
   "metadata": {},
   "outputs": [
    {
     "data": {
      "text/plain": [
       "array([[-3.05837272,  4.48825769],\n",
       "       [-8.60973869, -3.72714879],\n",
       "       [ 1.37129721,  5.23107449],\n",
       "       ...,\n",
       "       [-1.91854276,  4.59578307],\n",
       "       [-1.79600465,  4.28743568],\n",
       "       [-6.97684609, -8.89498834]])"
      ]
     },
     "execution_count": 19,
     "metadata": {},
     "output_type": "execute_result"
    }
   ],
   "source": [
    "features_mean_imputed"
   ]
  },
  {
   "cell_type": "code",
   "execution_count": 21,
   "id": "97bdafce-34ee-4d00-9435-76ff90a94864",
   "metadata": {},
   "outputs": [
    {
     "name": "stdout",
     "output_type": "stream",
     "text": [
      "True Value: 0.8730186113995938\n",
      "Imputed Value: -3.058372724614996\n"
     ]
    }
   ],
   "source": [
    "# Compare true and imputed values\n",
    "print(\"True Value:\", true_value)\n",
    "print(\"Imputed Value:\", features_mean_imputed[0,0])\n"
   ]
  },
  {
   "cell_type": "markdown",
   "id": "1ae25f25-10eb-414c-bfcc-a0cd5cb419a8",
   "metadata": {},
   "source": [
    "# Read IT\n",
    "\n",
    "There are two main strategies for replacing missing data with substitute values, each\n",
    "of which has strengths and weaknesses. First, we can use machine learning to predict\n",
    "the values of the missing data. To do this we treat the feature with missing values as a\n",
    "target vector and use the remaining subset of features to predict missing values.\n",
    "While we can use a wide range of machine learning algorithms to impute values, a\n",
    "popular choice is KNN. KNN is addressed in depth later in Chapter 14, but the short\n",
    "explanation is that the algorithm uses the k nearest observations (according to some\n",
    "distance metric) to predict the missing value."
   ]
  },
  {
   "cell_type": "markdown",
   "id": "ed0115bb-71f3-4b79-ae26-320de4f8e396",
   "metadata": {},
   "source": [
    "## The downside to KNN \n",
    "is that in order to know which observations are the closest to\n",
    "the missing value, it needs to calculate the distance between the missing value and\n",
    "every single observation. This is reasonable in smaller datasets, but quickly becomes\n",
    "problematic if a dataset has millions of observations."
   ]
  },
  {
   "cell_type": "markdown",
   "id": "8101e250-0d82-4dd5-b9bd-29be4f84ac5f",
   "metadata": {},
   "source": [
    "## An alternative and more scalable strategy\n",
    "\n",
    "is to fill in all missing values with some\n",
    "average value. For example, in our solution we used scikit-learn to fill in missing val‐\n",
    "ues with a feature’s mean value. The imputed value is often not as close to the true\n",
    "value as when we used KNN, but we can scale mean-filling to data containing mil‐\n",
    "lions of observations easily."
   ]
  },
  {
   "cell_type": "markdown",
   "id": "60ee3883-2d76-4ec2-94ad-83e18194de85",
   "metadata": {},
   "source": [
    "## If we use imputation, \n",
    "\n",
    "it is a good idea to create a binary feature indicating whether or\n",
    "not the observation contains an imputed value."
   ]
  },
  {
   "cell_type": "code",
   "execution_count": null,
   "id": "db73633f-8ff1-4f3d-a431-bc84a38972f4",
   "metadata": {},
   "outputs": [],
   "source": []
  }
 ],
 "metadata": {
  "kernelspec": {
   "display_name": "Python 3",
   "language": "python",
   "name": "python3"
  },
  "language_info": {
   "codemirror_mode": {
    "name": "ipython",
    "version": 3
   },
   "file_extension": ".py",
   "mimetype": "text/x-python",
   "name": "python",
   "nbconvert_exporter": "python",
   "pygments_lexer": "ipython3",
   "version": "3.7.9"
  }
 },
 "nbformat": 4,
 "nbformat_minor": 5
}
