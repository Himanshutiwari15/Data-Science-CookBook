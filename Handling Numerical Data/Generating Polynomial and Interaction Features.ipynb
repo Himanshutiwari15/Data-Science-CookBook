{
 "cells": [
  {
   "cell_type": "markdown",
   "id": "246aa181-1609-4b1d-8260-aaecce0c3a1f",
   "metadata": {},
   "source": [
    "# Generating Polynomial and Interaction Features"
   ]
  },
  {
   "cell_type": "code",
   "execution_count": 1,
   "id": "285865ff-30b9-4e96-968a-559948df0cb1",
   "metadata": {},
   "outputs": [],
   "source": [
    "import numpy as np\n",
    "from sklearn.preprocessing import PolynomialFeatures"
   ]
  },
  {
   "cell_type": "code",
   "execution_count": 2,
   "id": "32665c26-6206-498a-a5ef-b658905ef8f4",
   "metadata": {},
   "outputs": [],
   "source": [
    "features = np.array([[2, 3],\n",
    " [2, 3],\n",
    "[2, 3]])"
   ]
  },
  {
   "cell_type": "code",
   "execution_count": 3,
   "id": "dfc81d73-5271-440a-a8fc-1eb6adc1c071",
   "metadata": {},
   "outputs": [
    {
     "data": {
      "text/plain": [
       "array([[2, 3],\n",
       "       [2, 3],\n",
       "       [2, 3]])"
      ]
     },
     "execution_count": 3,
     "metadata": {},
     "output_type": "execute_result"
    }
   ],
   "source": [
    "features"
   ]
  },
  {
   "cell_type": "code",
   "execution_count": 4,
   "id": "60847a73-d745-484c-b195-8093c8846a35",
   "metadata": {},
   "outputs": [],
   "source": [
    "polynomial_interaction = PolynomialFeatures(degree=2, include_bias=False)"
   ]
  },
  {
   "cell_type": "code",
   "execution_count": 5,
   "id": "7081dbe4-ad6c-4b87-b6d2-f73267fe20a7",
   "metadata": {},
   "outputs": [
    {
     "data": {
      "text/plain": [
       "array([[2., 3., 4., 6., 9.],\n",
       "       [2., 3., 4., 6., 9.],\n",
       "       [2., 3., 4., 6., 9.]])"
      ]
     },
     "execution_count": 5,
     "metadata": {},
     "output_type": "execute_result"
    }
   ],
   "source": [
    "polynomial_interaction.fit_transform(features)"
   ]
  },
  {
   "cell_type": "markdown",
   "id": "095752a1-4d33-48fb-9d2d-8599c3a80c46",
   "metadata": {},
   "source": [
    "### The degree parameter determines the maximum degree of the polynomial. For example, degree=2 will create new features raised to the second power:\n",
    "> ### x1, x2, x1^2, x2^2\n",
    "\n",
    "### while degree=3 will create new features raised to the second and third power:\n",
    "> ### x1, x2, x1^2, x2^2, x1^3, x2^3\n"
   ]
  },
  {
   "cell_type": "markdown",
   "id": "6dc6d52e-932d-4f0e-afb4-e3253950a892",
   "metadata": {},
   "source": [
    "Furthermore, by default PolynomialFeatures includes interaction features:\n",
    "\n",
    "> x1x2\n",
    "\n",
    "We can restrict the features created to only interaction features by setting interac\n",
    "tion_only to True:"
   ]
  },
  {
   "cell_type": "code",
   "execution_count": 7,
   "id": "8dbf5c69-b252-4b8b-a560-8c5f21d13fad",
   "metadata": {},
   "outputs": [
    {
     "data": {
      "text/plain": [
       "array([[2., 3., 6.],\n",
       "       [2., 3., 6.],\n",
       "       [2., 3., 6.]])"
      ]
     },
     "execution_count": 7,
     "metadata": {},
     "output_type": "execute_result"
    }
   ],
   "source": [
    "interaction = PolynomialFeatures(degree=2,\n",
    " interaction_only=True, include_bias=False)\n",
    "interaction.fit_transform(features)"
   ]
  },
  {
   "cell_type": "markdown",
   "id": "3f616747-8982-42fa-b493-224237039e72",
   "metadata": {},
   "source": [
    "Additionally, often we run into situations where the effect of one feature is dependent\n",
    "on another feature. A simple example would be if we were trying to predict whether\n",
    "or not our coffee was sweet and we had two features: 1) whether or not the coffee was\n",
    "stirred and 2) if we added sugar. Individually, each feature does not predict coffee\n",
    "sweetness, but the combination of their effects does. That is, a coffee would only be\n",
    "sweet if the coffee had sugar and was stirred. The effects of each feature on the target\n",
    "(sweetness) are dependent on each other. We can encode that relationship by includ‐\n",
    "ing an interaction feature that is the product of the individual features."
   ]
  },
  {
   "cell_type": "code",
   "execution_count": null,
   "id": "3d688609-7805-4af1-9e41-325dcbee7f1e",
   "metadata": {},
   "outputs": [],
   "source": []
  }
 ],
 "metadata": {
  "kernelspec": {
   "display_name": "Python 3",
   "language": "python",
   "name": "python3"
  },
  "language_info": {
   "codemirror_mode": {
    "name": "ipython",
    "version": 3
   },
   "file_extension": ".py",
   "mimetype": "text/x-python",
   "name": "python",
   "nbconvert_exporter": "python",
   "pygments_lexer": "ipython3",
   "version": "3.7.9"
  }
 },
 "nbformat": 4,
 "nbformat_minor": 5
}
