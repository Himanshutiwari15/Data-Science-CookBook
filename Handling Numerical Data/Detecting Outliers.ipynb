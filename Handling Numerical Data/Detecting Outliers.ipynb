{
 "cells": [
  {
   "cell_type": "markdown",
   "id": "608f95f7-276d-4b42-8e18-87d9b1a72701",
   "metadata": {},
   "source": [
    "# Detecting Outliers"
   ]
  },
  {
   "cell_type": "markdown",
   "id": "b7370bfd-a678-4e75-875d-e91bd9bcea47",
   "metadata": {},
   "source": [
    "Detecting outliers is unfortunately more of an art than a science. However, a common\n",
    "method is to assume the data is normally distributed and based on that assumption\n",
    "“draw” an ellipse around the data, classifying any observation inside the ellipse as an\n",
    "inlier (labeled as 1) and any observation outside the ellipse as an outlier (labeled as\n",
    "-1):"
   ]
  },
  {
   "cell_type": "code",
   "execution_count": 6,
   "id": "aa33a9bc-b8fe-4844-98a9-efdea4082c74",
   "metadata": {},
   "outputs": [],
   "source": [
    "import numpy as np\n",
    "from sklearn.covariance import EllipticEnvelope\n",
    "from sklearn.datasets import make_blobs"
   ]
  },
  {
   "cell_type": "code",
   "execution_count": 7,
   "id": "f821995c-f87e-41fb-8faf-3be8f45491da",
   "metadata": {},
   "outputs": [
    {
     "data": {
      "text/plain": [
       "array([[-1.83198811,  3.52863145],\n",
       "       [-2.76017908,  5.55121358],\n",
       "       [-1.61734616,  4.98930508],\n",
       "       [-0.52579046,  3.3065986 ],\n",
       "       [ 0.08525186,  3.64528297],\n",
       "       [-0.79415228,  2.10495117],\n",
       "       [-1.34052081,  4.15711949],\n",
       "       [-1.98197711,  4.02243551],\n",
       "       [-2.18773166,  3.33352125],\n",
       "       [-0.19745197,  2.34634916]])"
      ]
     },
     "execution_count": 7,
     "metadata": {},
     "output_type": "execute_result"
    }
   ],
   "source": [
    "# Create simulated data\n",
    "features, _ = make_blobs(n_samples = 10,\n",
    " n_features = 2,\n",
    " centers = 1,\n",
    " random_state = 1)\n",
    "\n",
    "features"
   ]
  },
  {
   "cell_type": "code",
   "execution_count": 8,
   "id": "38f4118e-8762-4a23-8312-b5040e2313ab",
   "metadata": {},
   "outputs": [],
   "source": [
    "features[0,0] = 10000\n",
    "features[0,1] = 10000"
   ]
  },
  {
   "cell_type": "code",
   "execution_count": 9,
   "id": "02bcab54-70b5-4617-9373-284db85ecdf8",
   "metadata": {},
   "outputs": [
    {
     "data": {
      "text/plain": [
       "array([[ 1.00000000e+04,  1.00000000e+04],\n",
       "       [-2.76017908e+00,  5.55121358e+00],\n",
       "       [-1.61734616e+00,  4.98930508e+00],\n",
       "       [-5.25790464e-01,  3.30659860e+00],\n",
       "       [ 8.52518583e-02,  3.64528297e+00],\n",
       "       [-7.94152277e-01,  2.10495117e+00],\n",
       "       [-1.34052081e+00,  4.15711949e+00],\n",
       "       [-1.98197711e+00,  4.02243551e+00],\n",
       "       [-2.18773166e+00,  3.33352125e+00],\n",
       "       [-1.97451969e-01,  2.34634916e+00]])"
      ]
     },
     "execution_count": 9,
     "metadata": {},
     "output_type": "execute_result"
    }
   ],
   "source": [
    "features"
   ]
  },
  {
   "cell_type": "code",
   "execution_count": 10,
   "id": "2ade0b89-5cb7-491c-869a-84fd77e33d62",
   "metadata": {},
   "outputs": [],
   "source": [
    "outlier_detector = EllipticEnvelope(contamination=.1)"
   ]
  },
  {
   "cell_type": "code",
   "execution_count": 11,
   "id": "0395a318-2481-4b26-a70d-92211bac5fb8",
   "metadata": {},
   "outputs": [
    {
     "data": {
      "text/plain": [
       "EllipticEnvelope()"
      ]
     },
     "execution_count": 11,
     "metadata": {},
     "output_type": "execute_result"
    }
   ],
   "source": [
    "outlier_detector.fit(features)"
   ]
  },
  {
   "cell_type": "code",
   "execution_count": 12,
   "id": "c5c43f4a-3a69-40a8-bf97-854b008375a4",
   "metadata": {},
   "outputs": [
    {
     "data": {
      "text/plain": [
       "array([-1,  1,  1,  1,  1,  1,  1,  1,  1,  1])"
      ]
     },
     "execution_count": 12,
     "metadata": {},
     "output_type": "execute_result"
    }
   ],
   "source": [
    "outlier_detector.predict(features)"
   ]
  },
  {
   "cell_type": "markdown",
   "id": "85e33ccb-8e62-4838-812c-a6308ebdb410",
   "metadata": {},
   "source": [
    "A major limitation of this approach is the need to specify a contamination parame‐\n",
    "ter, which is the proportion of observations that are outliers—a value that we don’t\n",
    "know. Think of contamination as our estimate of the cleanliness of our data. If we\n",
    "expect our data to have few outliers, we can set contamination to something small.\n",
    "However, if we believe that the data is very likely to have outliers, we can set it to a\n",
    "higher value.\n",
    "\n",
    "\n",
    "Instead of looking at observations as a whole, we can instead look at individual fea‐\n",
    "tures and identify extreme values in those features using interquartile range (IQR):"
   ]
  },
  {
   "cell_type": "code",
   "execution_count": 13,
   "id": "7285f8ff-07bf-414b-86ea-49c7ba700115",
   "metadata": {},
   "outputs": [
    {
     "data": {
      "text/plain": [
       "array([ 1.00000000e+04, -2.76017908e+00, -1.61734616e+00, -5.25790464e-01,\n",
       "        8.52518583e-02, -7.94152277e-01, -1.34052081e+00, -1.98197711e+00,\n",
       "       -2.18773166e+00, -1.97451969e-01])"
      ]
     },
     "execution_count": 13,
     "metadata": {},
     "output_type": "execute_result"
    }
   ],
   "source": [
    "# Create one feature\n",
    "feature = features[:,0]\n",
    "feature"
   ]
  },
  {
   "cell_type": "code",
   "execution_count": 14,
   "id": "5645b633-84e5-406b-9951-62d9f9cb1a6f",
   "metadata": {},
   "outputs": [],
   "source": [
    "# Create a function to return index of outliers\n",
    "def indicies_of_outliers(x):\n",
    " q1, q3 = np.percentile(x, [25, 75])\n",
    " iqr = q3 - q1\n",
    " lower_bound = q1 - (iqr * 1.5)\n",
    " upper_bound = q3 + (iqr * 1.5)\n",
    " return np.where((x > upper_bound) | (x < lower_bound))"
   ]
  },
  {
   "cell_type": "code",
   "execution_count": 15,
   "id": "bbaa27f7-3aea-4fe3-890f-3b21dbed3749",
   "metadata": {},
   "outputs": [
    {
     "data": {
      "text/plain": [
       "(array([0], dtype=int64),)"
      ]
     },
     "execution_count": 15,
     "metadata": {},
     "output_type": "execute_result"
    }
   ],
   "source": [
    "indicies_of_outliers(feature)"
   ]
  },
  {
   "cell_type": "markdown",
   "id": "cf93b9a0-b030-4b84-bbd6-59f6d98d5ddc",
   "metadata": {},
   "source": [
    "IQR is the difference between the first and third quartile of a set of data. You can\n",
    "think of IQR as the spread of the bulk of the data, with outliers being observations far\n",
    "from the main concentration of data. Outliers are commonly defined as any value 1.5\n",
    "IQRs less than the first quartile or 1.5 IQRs greater than the third quartile."
   ]
  },
  {
   "cell_type": "markdown",
   "id": "baf4868c-14a0-43b4-8e7c-dd4430c2275c",
   "metadata": {},
   "source": [
    "There is no single best technique for detecting outliers. Instead, we have a collection\n",
    "of techniques all with their own advantages and disadvantages. Our best strategy is\n",
    "often trying multiple techniques (e.g., both EllipticEnvelope and IQR-based detec‐\n",
    "tion) and looking at the results as a whole"
   ]
  },
  {
   "cell_type": "code",
   "execution_count": null,
   "id": "2f7f5eec-efc7-4fb7-b220-3e69b9e4ad4a",
   "metadata": {},
   "outputs": [],
   "source": []
  }
 ],
 "metadata": {
  "kernelspec": {
   "display_name": "Python 3",
   "language": "python",
   "name": "python3"
  },
  "language_info": {
   "codemirror_mode": {
    "name": "ipython",
    "version": 3
   },
   "file_extension": ".py",
   "mimetype": "text/x-python",
   "name": "python",
   "nbconvert_exporter": "python",
   "pygments_lexer": "ipython3",
   "version": "3.7.9"
  }
 },
 "nbformat": 4,
 "nbformat_minor": 5
}
