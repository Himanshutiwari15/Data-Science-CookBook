{
 "cells": [
  {
   "cell_type": "markdown",
   "id": "47ad5805-bc8b-42aa-9500-c751a9f0d3f2",
   "metadata": {},
   "source": [
    "# Standardizing a Feature"
   ]
  },
  {
   "cell_type": "code",
   "execution_count": 1,
   "id": "130046b9-caa4-4bc5-bed5-f405e3edd6b2",
   "metadata": {},
   "outputs": [],
   "source": [
    "# scikit-learn’s StandardScaler performs both transformations"
   ]
  },
  {
   "cell_type": "code",
   "execution_count": 2,
   "id": "405f95b9-d230-458f-9774-546c033836b9",
   "metadata": {},
   "outputs": [],
   "source": [
    "import numpy as np\n",
    "from sklearn import preprocessing"
   ]
  },
  {
   "cell_type": "code",
   "execution_count": 3,
   "id": "c3fd091f-992a-4a15-809f-0cce31820674",
   "metadata": {},
   "outputs": [],
   "source": [
    "# Create feature\n",
    "x = np.array([[-1000.1],\n",
    " [-200.2],\n",
    " [500.5],\n",
    " [600.6],\n",
    " [9000.9]])"
   ]
  },
  {
   "cell_type": "code",
   "execution_count": 4,
   "id": "fe60fec2-456e-44d4-a9d4-027c4ef2392c",
   "metadata": {},
   "outputs": [],
   "source": [
    "scaler = preprocessing.StandardScaler()"
   ]
  },
  {
   "cell_type": "code",
   "execution_count": 6,
   "id": "4f1ad3ed-1e8f-4b92-8c79-519f3d552a93",
   "metadata": {},
   "outputs": [
    {
     "data": {
      "text/plain": [
       "StandardScaler()"
      ]
     },
     "execution_count": 6,
     "metadata": {},
     "output_type": "execute_result"
    }
   ],
   "source": [
    "scaler"
   ]
  },
  {
   "cell_type": "code",
   "execution_count": 7,
   "id": "d15f3523-adce-445b-9f89-4abe5bba928e",
   "metadata": {},
   "outputs": [],
   "source": [
    "standardized = scaler.fit_transform(x)"
   ]
  },
  {
   "cell_type": "code",
   "execution_count": 8,
   "id": "a2b6f6cc-9645-4e7f-89b8-cff3dbb1c184",
   "metadata": {},
   "outputs": [
    {
     "data": {
      "text/plain": [
       "array([[-0.76058269],\n",
       "       [-0.54177196],\n",
       "       [-0.35009716],\n",
       "       [-0.32271504],\n",
       "       [ 1.97516685]])"
      ]
     },
     "execution_count": 8,
     "metadata": {},
     "output_type": "execute_result"
    }
   ],
   "source": [
    "standardized"
   ]
  },
  {
   "cell_type": "markdown",
   "id": "7f886d3f-03c2-4fa3-907f-7f0dbadab223",
   "metadata": {},
   "source": [
    "### A common alternative to min-max scaling discussed in Recipe 4.1 is rescaling of fea‐tures to be approximately standard normally distributed. To achieve this, we use standardization to transform the data such that it has a mean, x̄, of 0 and a standard deviation, σ, of 1. Specifically, each element in the feature is transformed so that:\n",
    "> ## xi′ = (xi − x) / σ"
   ]
  },
  {
   "cell_type": "code",
   "execution_count": null,
   "id": "e9b0e08a-d69e-4640-ae36-82f29b0c098d",
   "metadata": {},
   "outputs": [],
   "source": []
  }
 ],
 "metadata": {
  "kernelspec": {
   "display_name": "Python 3",
   "language": "python",
   "name": "python3"
  },
  "language_info": {
   "codemirror_mode": {
    "name": "ipython",
    "version": 3
   },
   "file_extension": ".py",
   "mimetype": "text/x-python",
   "name": "python",
   "nbconvert_exporter": "python",
   "pygments_lexer": "ipython3",
   "version": "3.7.9"
  }
 },
 "nbformat": 4,
 "nbformat_minor": 5
}
